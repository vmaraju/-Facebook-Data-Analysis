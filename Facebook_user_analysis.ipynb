{
 "cells": [
  {
   "cell_type": "markdown",
   "id": "55b6d33f",
   "metadata": {},
   "source": [
    "# 1. **Importing Libraries**"
   ]
  },
  {
   "cell_type": "code",
   "execution_count": 4,
   "id": "348545fb",
   "metadata": {},
   "outputs": [],
   "source": [
    "import pandas as pd\n",
    "import numpy as np\n",
    "import matplotlib.pyplot as plt\n",
    "import seaborn as sns\n",
    "%matplotlib inline\n",
    "import warnings\n",
    "warnings.filterwarnings(\"ignore\")\n"
   ]
  },
  {
   "cell_type": "markdown",
   "id": "b3a13cf9",
   "metadata": {},
   "source": [
    "# **2. Data Acquisition & Description**"
   ]
  },
  {
   "cell_type": "markdown",
   "id": "fa71ef56",
   "metadata": {},
   "source": [
    "- The features of the data set:\n",
    "\n",
    "|Id|Feature|Description|\n",
    "|:--|:--|:--|\n",
    "|01| userid                 | A numeric value uniquely identifying the user.|\n",
    "|02| age                    | Age of the user in years.|\n",
    "|03| dob_day                | Day part of the user's date of birth.|\n",
    "|04| dob_year               | Year part of the user's date of birth.| \n",
    "|05| dob_month              | Month part of the user's date of birth.|\n",
    "|06| gender                 | Gender of the user.| \n",
    "|07| tenure                 | Number of days since the user has been on FB.|\n",
    "|08| friend_count           | Number of friends the user has.|\n",
    "|09| friendships_initiated  | Number of friendships initiated by the user.|\n",
    "|10| likes                  | Total number of posts liked by the user.|\n",
    "|11| likes_received         | Total Number of likes received by user's posts.|\n",
    "|12| mobile_likes           | Number of posts liked by the user through mobile app.|\n",
    "|13| mobile_likes_received  | Number of likes received by user through mobile app.|\n",
    "|14| www_likes              | Number of posts liked by the user through web.|\n",
    "|15| www_likes_received     | Number of likes received by user  through web.| "
   ]
  },
  {
   "cell_type": "code",
   "execution_count": 9,
   "id": "2137a361",
   "metadata": {},
   "outputs": [
    {
     "name": "stdout",
     "output_type": "stream",
     "text": [
      "Data Shape: (99003, 15)\n"
     ]
    },
    {
     "data": {
      "text/html": [
       "<div>\n",
       "<style scoped>\n",
       "    .dataframe tbody tr th:only-of-type {\n",
       "        vertical-align: middle;\n",
       "    }\n",
       "\n",
       "    .dataframe tbody tr th {\n",
       "        vertical-align: top;\n",
       "    }\n",
       "\n",
       "    .dataframe thead th {\n",
       "        text-align: right;\n",
       "    }\n",
       "</style>\n",
       "<table border=\"1\" class=\"dataframe\">\n",
       "  <thead>\n",
       "    <tr style=\"text-align: right;\">\n",
       "      <th></th>\n",
       "      <th>userid</th>\n",
       "      <th>age</th>\n",
       "      <th>dob_day</th>\n",
       "      <th>dob_year</th>\n",
       "      <th>dob_month</th>\n",
       "      <th>gender</th>\n",
       "      <th>tenure</th>\n",
       "      <th>friend_count</th>\n",
       "      <th>friendships_initiated</th>\n",
       "      <th>likes</th>\n",
       "      <th>likes_received</th>\n",
       "      <th>mobile_likes</th>\n",
       "      <th>mobile_likes_received</th>\n",
       "      <th>www_likes</th>\n",
       "      <th>www_likes_received</th>\n",
       "    </tr>\n",
       "  </thead>\n",
       "  <tbody>\n",
       "    <tr>\n",
       "      <th>0</th>\n",
       "      <td>2094382</td>\n",
       "      <td>14</td>\n",
       "      <td>19</td>\n",
       "      <td>1999</td>\n",
       "      <td>11</td>\n",
       "      <td>male</td>\n",
       "      <td>266.0</td>\n",
       "      <td>0</td>\n",
       "      <td>0</td>\n",
       "      <td>0</td>\n",
       "      <td>0</td>\n",
       "      <td>0</td>\n",
       "      <td>0</td>\n",
       "      <td>0</td>\n",
       "      <td>0</td>\n",
       "    </tr>\n",
       "    <tr>\n",
       "      <th>1</th>\n",
       "      <td>1192601</td>\n",
       "      <td>14</td>\n",
       "      <td>2</td>\n",
       "      <td>1999</td>\n",
       "      <td>11</td>\n",
       "      <td>female</td>\n",
       "      <td>6.0</td>\n",
       "      <td>0</td>\n",
       "      <td>0</td>\n",
       "      <td>0</td>\n",
       "      <td>0</td>\n",
       "      <td>0</td>\n",
       "      <td>0</td>\n",
       "      <td>0</td>\n",
       "      <td>0</td>\n",
       "    </tr>\n",
       "    <tr>\n",
       "      <th>2</th>\n",
       "      <td>2083884</td>\n",
       "      <td>14</td>\n",
       "      <td>16</td>\n",
       "      <td>1999</td>\n",
       "      <td>11</td>\n",
       "      <td>male</td>\n",
       "      <td>13.0</td>\n",
       "      <td>0</td>\n",
       "      <td>0</td>\n",
       "      <td>0</td>\n",
       "      <td>0</td>\n",
       "      <td>0</td>\n",
       "      <td>0</td>\n",
       "      <td>0</td>\n",
       "      <td>0</td>\n",
       "    </tr>\n",
       "    <tr>\n",
       "      <th>3</th>\n",
       "      <td>1203168</td>\n",
       "      <td>14</td>\n",
       "      <td>25</td>\n",
       "      <td>1999</td>\n",
       "      <td>12</td>\n",
       "      <td>female</td>\n",
       "      <td>93.0</td>\n",
       "      <td>0</td>\n",
       "      <td>0</td>\n",
       "      <td>0</td>\n",
       "      <td>0</td>\n",
       "      <td>0</td>\n",
       "      <td>0</td>\n",
       "      <td>0</td>\n",
       "      <td>0</td>\n",
       "    </tr>\n",
       "    <tr>\n",
       "      <th>4</th>\n",
       "      <td>1733186</td>\n",
       "      <td>14</td>\n",
       "      <td>4</td>\n",
       "      <td>1999</td>\n",
       "      <td>12</td>\n",
       "      <td>male</td>\n",
       "      <td>82.0</td>\n",
       "      <td>0</td>\n",
       "      <td>0</td>\n",
       "      <td>0</td>\n",
       "      <td>0</td>\n",
       "      <td>0</td>\n",
       "      <td>0</td>\n",
       "      <td>0</td>\n",
       "      <td>0</td>\n",
       "    </tr>\n",
       "  </tbody>\n",
       "</table>\n",
       "</div>"
      ],
      "text/plain": [
       "    userid  age  dob_day  dob_year  dob_month  gender  tenure  friend_count  \\\n",
       "0  2094382   14       19      1999         11    male   266.0             0   \n",
       "1  1192601   14        2      1999         11  female     6.0             0   \n",
       "2  2083884   14       16      1999         11    male    13.0             0   \n",
       "3  1203168   14       25      1999         12  female    93.0             0   \n",
       "4  1733186   14        4      1999         12    male    82.0             0   \n",
       "\n",
       "   friendships_initiated  likes  likes_received  mobile_likes  \\\n",
       "0                      0      0               0             0   \n",
       "1                      0      0               0             0   \n",
       "2                      0      0               0             0   \n",
       "3                      0      0               0             0   \n",
       "4                      0      0               0             0   \n",
       "\n",
       "   mobile_likes_received  www_likes  www_likes_received  \n",
       "0                      0          0                   0  \n",
       "1                      0          0                   0  \n",
       "2                      0          0                   0  \n",
       "3                      0          0                   0  \n",
       "4                      0          0                   0  "
      ]
     },
     "execution_count": 9,
     "metadata": {},
     "output_type": "execute_result"
    }
   ],
   "source": [
    "data=pd.read_csv(r\"C:\\Users\\vmaraju\\Documents\\new\\facebook.csv\",skiprows=0)\n",
    "print('Data Shape:', data.shape)\n",
    "data.head()"
   ]
  },
  {
   "cell_type": "markdown",
   "id": "0df08964",
   "metadata": {},
   "source": [
    "### **Data Description**\n",
    "\n",
    "- To get some quick description out of the data using describe method"
   ]
  },
  {
   "cell_type": "code",
   "execution_count": 10,
   "id": "62be808e",
   "metadata": {},
   "outputs": [
    {
     "data": {
      "text/html": [
       "<div>\n",
       "<style scoped>\n",
       "    .dataframe tbody tr th:only-of-type {\n",
       "        vertical-align: middle;\n",
       "    }\n",
       "\n",
       "    .dataframe tbody tr th {\n",
       "        vertical-align: top;\n",
       "    }\n",
       "\n",
       "    .dataframe thead th {\n",
       "        text-align: right;\n",
       "    }\n",
       "</style>\n",
       "<table border=\"1\" class=\"dataframe\">\n",
       "  <thead>\n",
       "    <tr style=\"text-align: right;\">\n",
       "      <th></th>\n",
       "      <th>userid</th>\n",
       "      <th>age</th>\n",
       "      <th>dob_day</th>\n",
       "      <th>dob_year</th>\n",
       "      <th>dob_month</th>\n",
       "      <th>tenure</th>\n",
       "      <th>friend_count</th>\n",
       "      <th>friendships_initiated</th>\n",
       "      <th>likes</th>\n",
       "      <th>likes_received</th>\n",
       "      <th>mobile_likes</th>\n",
       "      <th>mobile_likes_received</th>\n",
       "      <th>www_likes</th>\n",
       "      <th>www_likes_received</th>\n",
       "    </tr>\n",
       "  </thead>\n",
       "  <tbody>\n",
       "    <tr>\n",
       "      <th>count</th>\n",
       "      <td>9.900300e+04</td>\n",
       "      <td>99003.000000</td>\n",
       "      <td>99003.000000</td>\n",
       "      <td>99003.000000</td>\n",
       "      <td>99003.000000</td>\n",
       "      <td>99001.000000</td>\n",
       "      <td>99003.000000</td>\n",
       "      <td>99003.000000</td>\n",
       "      <td>99003.000000</td>\n",
       "      <td>99003.000000</td>\n",
       "      <td>99003.000000</td>\n",
       "      <td>99003.000000</td>\n",
       "      <td>99003.000000</td>\n",
       "      <td>99003.000000</td>\n",
       "    </tr>\n",
       "    <tr>\n",
       "      <th>mean</th>\n",
       "      <td>1.597045e+06</td>\n",
       "      <td>37.280224</td>\n",
       "      <td>14.530408</td>\n",
       "      <td>1975.719776</td>\n",
       "      <td>6.283365</td>\n",
       "      <td>537.887375</td>\n",
       "      <td>196.350787</td>\n",
       "      <td>107.452471</td>\n",
       "      <td>156.078785</td>\n",
       "      <td>142.689363</td>\n",
       "      <td>106.116300</td>\n",
       "      <td>84.120491</td>\n",
       "      <td>49.962425</td>\n",
       "      <td>58.568831</td>\n",
       "    </tr>\n",
       "    <tr>\n",
       "      <th>std</th>\n",
       "      <td>3.440592e+05</td>\n",
       "      <td>22.589748</td>\n",
       "      <td>9.015606</td>\n",
       "      <td>22.589748</td>\n",
       "      <td>3.529672</td>\n",
       "      <td>457.649874</td>\n",
       "      <td>387.304229</td>\n",
       "      <td>188.786951</td>\n",
       "      <td>572.280681</td>\n",
       "      <td>1387.919613</td>\n",
       "      <td>445.252985</td>\n",
       "      <td>839.889444</td>\n",
       "      <td>285.560152</td>\n",
       "      <td>601.416348</td>\n",
       "    </tr>\n",
       "    <tr>\n",
       "      <th>min</th>\n",
       "      <td>1.000008e+06</td>\n",
       "      <td>13.000000</td>\n",
       "      <td>1.000000</td>\n",
       "      <td>1900.000000</td>\n",
       "      <td>1.000000</td>\n",
       "      <td>0.000000</td>\n",
       "      <td>0.000000</td>\n",
       "      <td>0.000000</td>\n",
       "      <td>0.000000</td>\n",
       "      <td>0.000000</td>\n",
       "      <td>0.000000</td>\n",
       "      <td>0.000000</td>\n",
       "      <td>0.000000</td>\n",
       "      <td>0.000000</td>\n",
       "    </tr>\n",
       "    <tr>\n",
       "      <th>25%</th>\n",
       "      <td>1.298806e+06</td>\n",
       "      <td>20.000000</td>\n",
       "      <td>7.000000</td>\n",
       "      <td>1963.000000</td>\n",
       "      <td>3.000000</td>\n",
       "      <td>226.000000</td>\n",
       "      <td>31.000000</td>\n",
       "      <td>17.000000</td>\n",
       "      <td>1.000000</td>\n",
       "      <td>1.000000</td>\n",
       "      <td>0.000000</td>\n",
       "      <td>0.000000</td>\n",
       "      <td>0.000000</td>\n",
       "      <td>0.000000</td>\n",
       "    </tr>\n",
       "    <tr>\n",
       "      <th>50%</th>\n",
       "      <td>1.596148e+06</td>\n",
       "      <td>28.000000</td>\n",
       "      <td>14.000000</td>\n",
       "      <td>1985.000000</td>\n",
       "      <td>6.000000</td>\n",
       "      <td>412.000000</td>\n",
       "      <td>82.000000</td>\n",
       "      <td>46.000000</td>\n",
       "      <td>11.000000</td>\n",
       "      <td>8.000000</td>\n",
       "      <td>4.000000</td>\n",
       "      <td>4.000000</td>\n",
       "      <td>0.000000</td>\n",
       "      <td>2.000000</td>\n",
       "    </tr>\n",
       "    <tr>\n",
       "      <th>75%</th>\n",
       "      <td>1.895744e+06</td>\n",
       "      <td>50.000000</td>\n",
       "      <td>22.000000</td>\n",
       "      <td>1993.000000</td>\n",
       "      <td>9.000000</td>\n",
       "      <td>675.000000</td>\n",
       "      <td>206.000000</td>\n",
       "      <td>117.000000</td>\n",
       "      <td>81.000000</td>\n",
       "      <td>59.000000</td>\n",
       "      <td>46.000000</td>\n",
       "      <td>33.000000</td>\n",
       "      <td>7.000000</td>\n",
       "      <td>20.000000</td>\n",
       "    </tr>\n",
       "    <tr>\n",
       "      <th>max</th>\n",
       "      <td>2.193542e+06</td>\n",
       "      <td>113.000000</td>\n",
       "      <td>31.000000</td>\n",
       "      <td>2000.000000</td>\n",
       "      <td>12.000000</td>\n",
       "      <td>3139.000000</td>\n",
       "      <td>4923.000000</td>\n",
       "      <td>4144.000000</td>\n",
       "      <td>25111.000000</td>\n",
       "      <td>261197.000000</td>\n",
       "      <td>25111.000000</td>\n",
       "      <td>138561.000000</td>\n",
       "      <td>14865.000000</td>\n",
       "      <td>129953.000000</td>\n",
       "    </tr>\n",
       "  </tbody>\n",
       "</table>\n",
       "</div>"
      ],
      "text/plain": [
       "             userid           age       dob_day      dob_year     dob_month  \\\n",
       "count  9.900300e+04  99003.000000  99003.000000  99003.000000  99003.000000   \n",
       "mean   1.597045e+06     37.280224     14.530408   1975.719776      6.283365   \n",
       "std    3.440592e+05     22.589748      9.015606     22.589748      3.529672   \n",
       "min    1.000008e+06     13.000000      1.000000   1900.000000      1.000000   \n",
       "25%    1.298806e+06     20.000000      7.000000   1963.000000      3.000000   \n",
       "50%    1.596148e+06     28.000000     14.000000   1985.000000      6.000000   \n",
       "75%    1.895744e+06     50.000000     22.000000   1993.000000      9.000000   \n",
       "max    2.193542e+06    113.000000     31.000000   2000.000000     12.000000   \n",
       "\n",
       "             tenure  friend_count  friendships_initiated         likes  \\\n",
       "count  99001.000000  99003.000000           99003.000000  99003.000000   \n",
       "mean     537.887375    196.350787             107.452471    156.078785   \n",
       "std      457.649874    387.304229             188.786951    572.280681   \n",
       "min        0.000000      0.000000               0.000000      0.000000   \n",
       "25%      226.000000     31.000000              17.000000      1.000000   \n",
       "50%      412.000000     82.000000              46.000000     11.000000   \n",
       "75%      675.000000    206.000000             117.000000     81.000000   \n",
       "max     3139.000000   4923.000000            4144.000000  25111.000000   \n",
       "\n",
       "       likes_received  mobile_likes  mobile_likes_received     www_likes  \\\n",
       "count    99003.000000  99003.000000           99003.000000  99003.000000   \n",
       "mean       142.689363    106.116300              84.120491     49.962425   \n",
       "std       1387.919613    445.252985             839.889444    285.560152   \n",
       "min          0.000000      0.000000               0.000000      0.000000   \n",
       "25%          1.000000      0.000000               0.000000      0.000000   \n",
       "50%          8.000000      4.000000               4.000000      0.000000   \n",
       "75%         59.000000     46.000000              33.000000      7.000000   \n",
       "max     261197.000000  25111.000000          138561.000000  14865.000000   \n",
       "\n",
       "       www_likes_received  \n",
       "count        99003.000000  \n",
       "mean            58.568831  \n",
       "std            601.416348  \n",
       "min              0.000000  \n",
       "25%              0.000000  \n",
       "50%              2.000000  \n",
       "75%             20.000000  \n",
       "max         129953.000000  "
      ]
     },
     "execution_count": 10,
     "metadata": {},
     "output_type": "execute_result"
    }
   ],
   "source": [
    "data.describe()"
   ]
  },
  {
   "cell_type": "markdown",
   "id": "7549240d",
   "metadata": {},
   "source": [
    "### **Data Information**"
   ]
  },
  {
   "cell_type": "code",
   "execution_count": 8,
   "id": "323e39da",
   "metadata": {},
   "outputs": [
    {
     "name": "stdout",
     "output_type": "stream",
     "text": [
      "<class 'pandas.core.frame.DataFrame'>\n",
      "RangeIndex: 99003 entries, 0 to 99002\n",
      "Data columns (total 15 columns):\n",
      " #   Column                 Non-Null Count  Dtype  \n",
      "---  ------                 --------------  -----  \n",
      " 0   userid                 99003 non-null  int64  \n",
      " 1   age                    99003 non-null  int64  \n",
      " 2   dob_day                99003 non-null  int64  \n",
      " 3   dob_year               99003 non-null  int64  \n",
      " 4   dob_month              99003 non-null  int64  \n",
      " 5   gender                 98828 non-null  object \n",
      " 6   tenure                 99001 non-null  float64\n",
      " 7   friend_count           99003 non-null  int64  \n",
      " 8   friendships_initiated  99003 non-null  int64  \n",
      " 9   likes                  99003 non-null  int64  \n",
      " 10  likes_received         99003 non-null  int64  \n",
      " 11  mobile_likes           99003 non-null  int64  \n",
      " 12  mobile_likes_received  99003 non-null  int64  \n",
      " 13  www_likes              99003 non-null  int64  \n",
      " 14  www_likes_received     99003 non-null  int64  \n",
      "dtypes: float64(1), int64(13), object(1)\n",
      "memory usage: 11.0+ MB\n"
     ]
    }
   ],
   "source": [
    "data.info()"
   ]
  },
  {
   "cell_type": "markdown",
   "id": "f5474bb3",
   "metadata": {},
   "source": [
    "---\n",
    "<a name = Section6></a>\n",
    "# **3. Data Pre-Processing**\n",
    "---\n",
    "\n",
    "- This section is emphasised on performing data manipulation over unstructured data for further processing and analysis.\n",
    "\n",
    "- To modify unstructured data to strucuted data verifying and manipulating the integrity of the data by:\n",
    "  - Handling missing data,\n",
    "\n",
    "  - Handling redundant data,\n",
    "\n",
    "  - Handling inconsistent data,\n",
    "\n",
    "  - Handling outliers,\n",
    "\n",
    "  - Handling typos\n",
    "  \n"
   ]
  },
  {
   "cell_type": "markdown",
   "id": "7b88955b",
   "metadata": {},
   "source": [
    "Since the **userid** has **unique** values and hence it is not giving any insights to our analysis we will drop it"
   ]
  },
  {
   "cell_type": "code",
   "execution_count": null,
   "id": "3377145e",
   "metadata": {},
   "outputs": [],
   "source": [
    "data.drop(['userid'],inplace=True,axis=1)"
   ]
  },
  {
   "cell_type": "code",
   "execution_count": 13,
   "id": "7425e8c7",
   "metadata": {},
   "outputs": [
    {
     "data": {
      "text/html": [
       "<div>\n",
       "<style scoped>\n",
       "    .dataframe tbody tr th:only-of-type {\n",
       "        vertical-align: middle;\n",
       "    }\n",
       "\n",
       "    .dataframe tbody tr th {\n",
       "        vertical-align: top;\n",
       "    }\n",
       "\n",
       "    .dataframe thead th {\n",
       "        text-align: right;\n",
       "    }\n",
       "</style>\n",
       "<table border=\"1\" class=\"dataframe\">\n",
       "  <thead>\n",
       "    <tr style=\"text-align: right;\">\n",
       "      <th></th>\n",
       "      <th>age</th>\n",
       "      <th>dob_day</th>\n",
       "      <th>dob_year</th>\n",
       "      <th>dob_month</th>\n",
       "      <th>gender</th>\n",
       "      <th>tenure</th>\n",
       "      <th>friend_count</th>\n",
       "      <th>friendships_initiated</th>\n",
       "      <th>likes</th>\n",
       "      <th>likes_received</th>\n",
       "      <th>mobile_likes</th>\n",
       "      <th>mobile_likes_received</th>\n",
       "      <th>www_likes</th>\n",
       "      <th>www_likes_received</th>\n",
       "    </tr>\n",
       "  </thead>\n",
       "  <tbody>\n",
       "    <tr>\n",
       "      <th>0</th>\n",
       "      <td>14</td>\n",
       "      <td>19</td>\n",
       "      <td>1999</td>\n",
       "      <td>11</td>\n",
       "      <td>male</td>\n",
       "      <td>266.0</td>\n",
       "      <td>0</td>\n",
       "      <td>0</td>\n",
       "      <td>0</td>\n",
       "      <td>0</td>\n",
       "      <td>0</td>\n",
       "      <td>0</td>\n",
       "      <td>0</td>\n",
       "      <td>0</td>\n",
       "    </tr>\n",
       "    <tr>\n",
       "      <th>1</th>\n",
       "      <td>14</td>\n",
       "      <td>2</td>\n",
       "      <td>1999</td>\n",
       "      <td>11</td>\n",
       "      <td>female</td>\n",
       "      <td>6.0</td>\n",
       "      <td>0</td>\n",
       "      <td>0</td>\n",
       "      <td>0</td>\n",
       "      <td>0</td>\n",
       "      <td>0</td>\n",
       "      <td>0</td>\n",
       "      <td>0</td>\n",
       "      <td>0</td>\n",
       "    </tr>\n",
       "    <tr>\n",
       "      <th>2</th>\n",
       "      <td>14</td>\n",
       "      <td>16</td>\n",
       "      <td>1999</td>\n",
       "      <td>11</td>\n",
       "      <td>male</td>\n",
       "      <td>13.0</td>\n",
       "      <td>0</td>\n",
       "      <td>0</td>\n",
       "      <td>0</td>\n",
       "      <td>0</td>\n",
       "      <td>0</td>\n",
       "      <td>0</td>\n",
       "      <td>0</td>\n",
       "      <td>0</td>\n",
       "    </tr>\n",
       "    <tr>\n",
       "      <th>3</th>\n",
       "      <td>14</td>\n",
       "      <td>25</td>\n",
       "      <td>1999</td>\n",
       "      <td>12</td>\n",
       "      <td>female</td>\n",
       "      <td>93.0</td>\n",
       "      <td>0</td>\n",
       "      <td>0</td>\n",
       "      <td>0</td>\n",
       "      <td>0</td>\n",
       "      <td>0</td>\n",
       "      <td>0</td>\n",
       "      <td>0</td>\n",
       "      <td>0</td>\n",
       "    </tr>\n",
       "    <tr>\n",
       "      <th>4</th>\n",
       "      <td>14</td>\n",
       "      <td>4</td>\n",
       "      <td>1999</td>\n",
       "      <td>12</td>\n",
       "      <td>male</td>\n",
       "      <td>82.0</td>\n",
       "      <td>0</td>\n",
       "      <td>0</td>\n",
       "      <td>0</td>\n",
       "      <td>0</td>\n",
       "      <td>0</td>\n",
       "      <td>0</td>\n",
       "      <td>0</td>\n",
       "      <td>0</td>\n",
       "    </tr>\n",
       "  </tbody>\n",
       "</table>\n",
       "</div>"
      ],
      "text/plain": [
       "   age  dob_day  dob_year  dob_month  gender  tenure  friend_count  \\\n",
       "0   14       19      1999         11    male   266.0             0   \n",
       "1   14        2      1999         11  female     6.0             0   \n",
       "2   14       16      1999         11    male    13.0             0   \n",
       "3   14       25      1999         12  female    93.0             0   \n",
       "4   14        4      1999         12    male    82.0             0   \n",
       "\n",
       "   friendships_initiated  likes  likes_received  mobile_likes  \\\n",
       "0                      0      0               0             0   \n",
       "1                      0      0               0             0   \n",
       "2                      0      0               0             0   \n",
       "3                      0      0               0             0   \n",
       "4                      0      0               0             0   \n",
       "\n",
       "   mobile_likes_received  www_likes  www_likes_received  \n",
       "0                      0          0                   0  \n",
       "1                      0          0                   0  \n",
       "2                      0          0                   0  \n",
       "3                      0          0                   0  \n",
       "4                      0          0                   0  "
      ]
     },
     "execution_count": 13,
     "metadata": {},
     "output_type": "execute_result"
    }
   ],
   "source": [
    "data.head()"
   ]
  },
  {
   "cell_type": "markdown",
   "id": "4580700b",
   "metadata": {},
   "source": [
    "Since **dob_day**,**dob_month**,**dob_year** together when combined form the date of birth of user we will combine then "
   ]
  },
  {
   "cell_type": "code",
   "execution_count": 15,
   "id": "c710bbe2",
   "metadata": {},
   "outputs": [],
   "source": [
    "data['dob']=(data['dob_day']).astype('str')+('-')+(data['dob_month']).astype('str')+'-'+(data['dob_year']).astype('str')"
   ]
  },
  {
   "cell_type": "code",
   "execution_count": 16,
   "id": "b7aaa5e5",
   "metadata": {},
   "outputs": [
    {
     "data": {
      "text/html": [
       "<div>\n",
       "<style scoped>\n",
       "    .dataframe tbody tr th:only-of-type {\n",
       "        vertical-align: middle;\n",
       "    }\n",
       "\n",
       "    .dataframe tbody tr th {\n",
       "        vertical-align: top;\n",
       "    }\n",
       "\n",
       "    .dataframe thead th {\n",
       "        text-align: right;\n",
       "    }\n",
       "</style>\n",
       "<table border=\"1\" class=\"dataframe\">\n",
       "  <thead>\n",
       "    <tr style=\"text-align: right;\">\n",
       "      <th></th>\n",
       "      <th>age</th>\n",
       "      <th>dob_day</th>\n",
       "      <th>dob_year</th>\n",
       "      <th>dob_month</th>\n",
       "      <th>gender</th>\n",
       "      <th>tenure</th>\n",
       "      <th>friend_count</th>\n",
       "      <th>friendships_initiated</th>\n",
       "      <th>likes</th>\n",
       "      <th>likes_received</th>\n",
       "      <th>mobile_likes</th>\n",
       "      <th>mobile_likes_received</th>\n",
       "      <th>www_likes</th>\n",
       "      <th>www_likes_received</th>\n",
       "      <th>dob</th>\n",
       "    </tr>\n",
       "  </thead>\n",
       "  <tbody>\n",
       "    <tr>\n",
       "      <th>0</th>\n",
       "      <td>14</td>\n",
       "      <td>19</td>\n",
       "      <td>1999</td>\n",
       "      <td>11</td>\n",
       "      <td>male</td>\n",
       "      <td>266.0</td>\n",
       "      <td>0</td>\n",
       "      <td>0</td>\n",
       "      <td>0</td>\n",
       "      <td>0</td>\n",
       "      <td>0</td>\n",
       "      <td>0</td>\n",
       "      <td>0</td>\n",
       "      <td>0</td>\n",
       "      <td>19-11-1999</td>\n",
       "    </tr>\n",
       "    <tr>\n",
       "      <th>1</th>\n",
       "      <td>14</td>\n",
       "      <td>2</td>\n",
       "      <td>1999</td>\n",
       "      <td>11</td>\n",
       "      <td>female</td>\n",
       "      <td>6.0</td>\n",
       "      <td>0</td>\n",
       "      <td>0</td>\n",
       "      <td>0</td>\n",
       "      <td>0</td>\n",
       "      <td>0</td>\n",
       "      <td>0</td>\n",
       "      <td>0</td>\n",
       "      <td>0</td>\n",
       "      <td>2-11-1999</td>\n",
       "    </tr>\n",
       "    <tr>\n",
       "      <th>2</th>\n",
       "      <td>14</td>\n",
       "      <td>16</td>\n",
       "      <td>1999</td>\n",
       "      <td>11</td>\n",
       "      <td>male</td>\n",
       "      <td>13.0</td>\n",
       "      <td>0</td>\n",
       "      <td>0</td>\n",
       "      <td>0</td>\n",
       "      <td>0</td>\n",
       "      <td>0</td>\n",
       "      <td>0</td>\n",
       "      <td>0</td>\n",
       "      <td>0</td>\n",
       "      <td>16-11-1999</td>\n",
       "    </tr>\n",
       "    <tr>\n",
       "      <th>3</th>\n",
       "      <td>14</td>\n",
       "      <td>25</td>\n",
       "      <td>1999</td>\n",
       "      <td>12</td>\n",
       "      <td>female</td>\n",
       "      <td>93.0</td>\n",
       "      <td>0</td>\n",
       "      <td>0</td>\n",
       "      <td>0</td>\n",
       "      <td>0</td>\n",
       "      <td>0</td>\n",
       "      <td>0</td>\n",
       "      <td>0</td>\n",
       "      <td>0</td>\n",
       "      <td>25-12-1999</td>\n",
       "    </tr>\n",
       "    <tr>\n",
       "      <th>4</th>\n",
       "      <td>14</td>\n",
       "      <td>4</td>\n",
       "      <td>1999</td>\n",
       "      <td>12</td>\n",
       "      <td>male</td>\n",
       "      <td>82.0</td>\n",
       "      <td>0</td>\n",
       "      <td>0</td>\n",
       "      <td>0</td>\n",
       "      <td>0</td>\n",
       "      <td>0</td>\n",
       "      <td>0</td>\n",
       "      <td>0</td>\n",
       "      <td>0</td>\n",
       "      <td>4-12-1999</td>\n",
       "    </tr>\n",
       "  </tbody>\n",
       "</table>\n",
       "</div>"
      ],
      "text/plain": [
       "   age  dob_day  dob_year  dob_month  gender  tenure  friend_count  \\\n",
       "0   14       19      1999         11    male   266.0             0   \n",
       "1   14        2      1999         11  female     6.0             0   \n",
       "2   14       16      1999         11    male    13.0             0   \n",
       "3   14       25      1999         12  female    93.0             0   \n",
       "4   14        4      1999         12    male    82.0             0   \n",
       "\n",
       "   friendships_initiated  likes  likes_received  mobile_likes  \\\n",
       "0                      0      0               0             0   \n",
       "1                      0      0               0             0   \n",
       "2                      0      0               0             0   \n",
       "3                      0      0               0             0   \n",
       "4                      0      0               0             0   \n",
       "\n",
       "   mobile_likes_received  www_likes  www_likes_received         dob  \n",
       "0                      0          0                   0  19-11-1999  \n",
       "1                      0          0                   0   2-11-1999  \n",
       "2                      0          0                   0  16-11-1999  \n",
       "3                      0          0                   0  25-12-1999  \n",
       "4                      0          0                   0   4-12-1999  "
      ]
     },
     "execution_count": 16,
     "metadata": {},
     "output_type": "execute_result"
    }
   ],
   "source": [
    "data.head()"
   ]
  },
  {
   "cell_type": "markdown",
   "id": "82a3f022",
   "metadata": {},
   "source": [
    "Since **dob_day**,**dob_month**,**dob_year** are converted into date of birth of user we will drop these columns"
   ]
  },
  {
   "cell_type": "code",
   "execution_count": null,
   "id": "399e43f2",
   "metadata": {},
   "outputs": [],
   "source": [
    "data.drop(['dob_day','dob_month','dob_year'],axis=1,inplace=True)"
   ]
  },
  {
   "cell_type": "code",
   "execution_count": null,
   "id": "39e72fe3",
   "metadata": {},
   "outputs": [],
   "source": [
    "data.head()"
   ]
  },
  {
   "cell_type": "markdown",
   "id": "bf2a59e4",
   "metadata": {},
   "source": [
    "-The **dob** column is actually datetime Dtype hence we will convert it from object to datetime dtype "
   ]
  },
  {
   "cell_type": "code",
   "execution_count": 20,
   "id": "d7ccab32",
   "metadata": {},
   "outputs": [],
   "source": [
    "data['dob']=pd.to_datetime(data['dob'],format='%d-%m-%Y')"
   ]
  },
  {
   "cell_type": "markdown",
   "id": "2af960cc",
   "metadata": {},
   "source": [
    "**95%** of data lie within the age of 90, there were some values above 100 they probably might have died but there account was not deactivated hence removing those values or children less than 13 must have entered wrong birth of year so that they could use Facebook"
   ]
  },
  {
   "cell_type": "code",
   "execution_count": 23,
   "id": "7e4ec09c",
   "metadata": {},
   "outputs": [],
   "source": [
    "data=data[data['age']<=90]"
   ]
  },
  {
   "cell_type": "markdown",
   "id": "6c458e46",
   "metadata": {},
   "source": [
    "Dividing people into age groups on the basis of their age"
   ]
  },
  {
   "cell_type": "code",
   "execution_count": 24,
   "id": "aa9efcbb",
   "metadata": {},
   "outputs": [],
   "source": [
    "data['age_group'] = pd.cut(data['age'].dropna(),\n",
    "                         [13,18,30,60,91],\n",
    "                         labels=['Children','Young Adults','Adults','Senior Citizen'], include_lowest=True)"
   ]
  },
  {
   "cell_type": "code",
   "execution_count": 28,
   "id": "dc9ea22c",
   "metadata": {},
   "outputs": [
    {
     "data": {
      "text/html": [
       "<div>\n",
       "<style scoped>\n",
       "    .dataframe tbody tr th:only-of-type {\n",
       "        vertical-align: middle;\n",
       "    }\n",
       "\n",
       "    .dataframe tbody tr th {\n",
       "        vertical-align: top;\n",
       "    }\n",
       "\n",
       "    .dataframe thead th {\n",
       "        text-align: right;\n",
       "    }\n",
       "</style>\n",
       "<table border=\"1\" class=\"dataframe\">\n",
       "  <thead>\n",
       "    <tr style=\"text-align: right;\">\n",
       "      <th></th>\n",
       "      <th>age</th>\n",
       "      <th>gender</th>\n",
       "      <th>tenure</th>\n",
       "      <th>friend_count</th>\n",
       "      <th>friendships_initiated</th>\n",
       "      <th>likes</th>\n",
       "      <th>likes_received</th>\n",
       "      <th>mobile_likes</th>\n",
       "      <th>mobile_likes_received</th>\n",
       "      <th>www_likes</th>\n",
       "      <th>www_likes_received</th>\n",
       "      <th>dob</th>\n",
       "      <th>age_group</th>\n",
       "    </tr>\n",
       "  </thead>\n",
       "  <tbody>\n",
       "    <tr>\n",
       "      <th>0</th>\n",
       "      <td>14</td>\n",
       "      <td>male</td>\n",
       "      <td>266.0</td>\n",
       "      <td>0</td>\n",
       "      <td>0</td>\n",
       "      <td>0</td>\n",
       "      <td>0</td>\n",
       "      <td>0</td>\n",
       "      <td>0</td>\n",
       "      <td>0</td>\n",
       "      <td>0</td>\n",
       "      <td>1999-11-19</td>\n",
       "      <td>Children</td>\n",
       "    </tr>\n",
       "    <tr>\n",
       "      <th>1</th>\n",
       "      <td>14</td>\n",
       "      <td>female</td>\n",
       "      <td>6.0</td>\n",
       "      <td>0</td>\n",
       "      <td>0</td>\n",
       "      <td>0</td>\n",
       "      <td>0</td>\n",
       "      <td>0</td>\n",
       "      <td>0</td>\n",
       "      <td>0</td>\n",
       "      <td>0</td>\n",
       "      <td>1999-11-02</td>\n",
       "      <td>Children</td>\n",
       "    </tr>\n",
       "    <tr>\n",
       "      <th>2</th>\n",
       "      <td>14</td>\n",
       "      <td>male</td>\n",
       "      <td>13.0</td>\n",
       "      <td>0</td>\n",
       "      <td>0</td>\n",
       "      <td>0</td>\n",
       "      <td>0</td>\n",
       "      <td>0</td>\n",
       "      <td>0</td>\n",
       "      <td>0</td>\n",
       "      <td>0</td>\n",
       "      <td>1999-11-16</td>\n",
       "      <td>Children</td>\n",
       "    </tr>\n",
       "    <tr>\n",
       "      <th>3</th>\n",
       "      <td>14</td>\n",
       "      <td>female</td>\n",
       "      <td>93.0</td>\n",
       "      <td>0</td>\n",
       "      <td>0</td>\n",
       "      <td>0</td>\n",
       "      <td>0</td>\n",
       "      <td>0</td>\n",
       "      <td>0</td>\n",
       "      <td>0</td>\n",
       "      <td>0</td>\n",
       "      <td>1999-12-25</td>\n",
       "      <td>Children</td>\n",
       "    </tr>\n",
       "    <tr>\n",
       "      <th>4</th>\n",
       "      <td>14</td>\n",
       "      <td>male</td>\n",
       "      <td>82.0</td>\n",
       "      <td>0</td>\n",
       "      <td>0</td>\n",
       "      <td>0</td>\n",
       "      <td>0</td>\n",
       "      <td>0</td>\n",
       "      <td>0</td>\n",
       "      <td>0</td>\n",
       "      <td>0</td>\n",
       "      <td>1999-12-04</td>\n",
       "      <td>Children</td>\n",
       "    </tr>\n",
       "  </tbody>\n",
       "</table>\n",
       "</div>"
      ],
      "text/plain": [
       "   age  gender  tenure  friend_count  friendships_initiated  likes  \\\n",
       "0   14    male   266.0             0                      0      0   \n",
       "1   14  female     6.0             0                      0      0   \n",
       "2   14    male    13.0             0                      0      0   \n",
       "3   14  female    93.0             0                      0      0   \n",
       "4   14    male    82.0             0                      0      0   \n",
       "\n",
       "   likes_received  mobile_likes  mobile_likes_received  www_likes  \\\n",
       "0               0             0                      0          0   \n",
       "1               0             0                      0          0   \n",
       "2               0             0                      0          0   \n",
       "3               0             0                      0          0   \n",
       "4               0             0                      0          0   \n",
       "\n",
       "   www_likes_received        dob age_group  \n",
       "0                   0 1999-11-19  Children  \n",
       "1                   0 1999-11-02  Children  \n",
       "2                   0 1999-11-16  Children  \n",
       "3                   0 1999-12-25  Children  \n",
       "4                   0 1999-12-04  Children  "
      ]
     },
     "execution_count": 28,
     "metadata": {},
     "output_type": "execute_result"
    }
   ],
   "source": [
    "data.head()"
   ]
  },
  {
   "cell_type": "markdown",
   "id": "67a0cce0",
   "metadata": {},
   "source": [
    "Since there are only 2 null values hence removing null values from tenure "
   ]
  },
  {
   "cell_type": "code",
   "execution_count": 29,
   "id": "154e3258",
   "metadata": {},
   "outputs": [],
   "source": [
    "data = data.dropna(axis=0, subset=['tenure'])"
   ]
  },
  {
   "cell_type": "code",
   "execution_count": 31,
   "id": "11702b2f",
   "metadata": {},
   "outputs": [
    {
     "data": {
      "text/plain": [
       "age                        0\n",
       "gender                   111\n",
       "tenure                     0\n",
       "friend_count               0\n",
       "friendships_initiated      0\n",
       "likes                      0\n",
       "likes_received             0\n",
       "mobile_likes               0\n",
       "mobile_likes_received      0\n",
       "www_likes                  0\n",
       "www_likes_received         0\n",
       "dob                        0\n",
       "age_group                  0\n",
       "dtype: int64"
      ]
     },
     "execution_count": 31,
     "metadata": {},
     "output_type": "execute_result"
    }
   ],
   "source": [
    "data.isnull().sum()"
   ]
  },
  {
   "cell_type": "code",
   "execution_count": 32,
   "id": "e85d958a",
   "metadata": {},
   "outputs": [],
   "source": [
    "def usertype(x):\n",
    "    if x<366:\n",
    "        return 'new user'\n",
    "    else:\n",
    "        return 'old user'"
   ]
  },
  {
   "cell_type": "markdown",
   "id": "d8111ed6",
   "metadata": {},
   "source": [
    "Dividing a user into old user and new user.If user has been using Facebook for less than 1 year then he is considered as a new user else he is treated as an old user."
   ]
  },
  {
   "cell_type": "code",
   "execution_count": 33,
   "id": "f866658b",
   "metadata": {},
   "outputs": [],
   "source": [
    "data['user_type']=data.tenure.apply(usertype)"
   ]
  },
  {
   "cell_type": "markdown",
   "id": "35bf78a2",
   "metadata": {},
   "source": [
    "data.head()"
   ]
  },
  {
   "cell_type": "markdown",
   "id": "35be8699",
   "metadata": {},
   "source": [
    "Since **likes** is equal to sum of **mobile_likes** and **wwww_likes** we can drop **likes** \n",
    "\n",
    "Since **likes_received** is equal to sum of **mobile_likes_received** and **wwww_likes_received** we can drop **likes_received**"
   ]
  },
  {
   "cell_type": "code",
   "execution_count": 36,
   "id": "c72b2843",
   "metadata": {},
   "outputs": [],
   "source": [
    "data.drop(['likes','likes_received'],axis=1,inplace=True)"
   ]
  },
  {
   "cell_type": "markdown",
   "id": "3a59ad49",
   "metadata": {},
   "source": [
    "There are 111 null values in gender columns therefore replacing those values by mode of the column"
   ]
  },
  {
   "cell_type": "code",
   "execution_count": 37,
   "id": "ef5c76de",
   "metadata": {},
   "outputs": [],
   "source": [
    "data['gender'] = data['gender'].fillna(data['gender'].mode()[0])"
   ]
  },
  {
   "cell_type": "code",
   "execution_count": 38,
   "id": "91c9db96",
   "metadata": {},
   "outputs": [
    {
     "data": {
      "text/plain": [
       "age                      0\n",
       "gender                   0\n",
       "tenure                   0\n",
       "friend_count             0\n",
       "friendships_initiated    0\n",
       "mobile_likes             0\n",
       "mobile_likes_received    0\n",
       "www_likes                0\n",
       "www_likes_received       0\n",
       "dob                      0\n",
       "age_group                0\n",
       "user_type                0\n",
       "dtype: int64"
      ]
     },
     "execution_count": 38,
     "metadata": {},
     "output_type": "execute_result"
    }
   ],
   "source": [
    "data.isnull().sum()"
   ]
  },
  {
   "cell_type": "code",
   "execution_count": 39,
   "id": "4ba8b9fc",
   "metadata": {},
   "outputs": [
    {
     "name": "stdout",
     "output_type": "stream",
     "text": [
      "Data Shape: (94096, 12)\n"
     ]
    },
    {
     "data": {
      "text/html": [
       "<div>\n",
       "<style scoped>\n",
       "    .dataframe tbody tr th:only-of-type {\n",
       "        vertical-align: middle;\n",
       "    }\n",
       "\n",
       "    .dataframe tbody tr th {\n",
       "        vertical-align: top;\n",
       "    }\n",
       "\n",
       "    .dataframe thead th {\n",
       "        text-align: right;\n",
       "    }\n",
       "</style>\n",
       "<table border=\"1\" class=\"dataframe\">\n",
       "  <thead>\n",
       "    <tr style=\"text-align: right;\">\n",
       "      <th></th>\n",
       "      <th>age</th>\n",
       "      <th>gender</th>\n",
       "      <th>tenure</th>\n",
       "      <th>friend_count</th>\n",
       "      <th>friendships_initiated</th>\n",
       "      <th>mobile_likes</th>\n",
       "      <th>mobile_likes_received</th>\n",
       "      <th>www_likes</th>\n",
       "      <th>www_likes_received</th>\n",
       "      <th>dob</th>\n",
       "      <th>age_group</th>\n",
       "      <th>user_type</th>\n",
       "    </tr>\n",
       "  </thead>\n",
       "  <tbody>\n",
       "    <tr>\n",
       "      <th>0</th>\n",
       "      <td>14</td>\n",
       "      <td>male</td>\n",
       "      <td>266.0</td>\n",
       "      <td>0</td>\n",
       "      <td>0</td>\n",
       "      <td>0</td>\n",
       "      <td>0</td>\n",
       "      <td>0</td>\n",
       "      <td>0</td>\n",
       "      <td>1999-11-19</td>\n",
       "      <td>Children</td>\n",
       "      <td>new user</td>\n",
       "    </tr>\n",
       "    <tr>\n",
       "      <th>1</th>\n",
       "      <td>14</td>\n",
       "      <td>female</td>\n",
       "      <td>6.0</td>\n",
       "      <td>0</td>\n",
       "      <td>0</td>\n",
       "      <td>0</td>\n",
       "      <td>0</td>\n",
       "      <td>0</td>\n",
       "      <td>0</td>\n",
       "      <td>1999-11-02</td>\n",
       "      <td>Children</td>\n",
       "      <td>new user</td>\n",
       "    </tr>\n",
       "    <tr>\n",
       "      <th>2</th>\n",
       "      <td>14</td>\n",
       "      <td>male</td>\n",
       "      <td>13.0</td>\n",
       "      <td>0</td>\n",
       "      <td>0</td>\n",
       "      <td>0</td>\n",
       "      <td>0</td>\n",
       "      <td>0</td>\n",
       "      <td>0</td>\n",
       "      <td>1999-11-16</td>\n",
       "      <td>Children</td>\n",
       "      <td>new user</td>\n",
       "    </tr>\n",
       "    <tr>\n",
       "      <th>3</th>\n",
       "      <td>14</td>\n",
       "      <td>female</td>\n",
       "      <td>93.0</td>\n",
       "      <td>0</td>\n",
       "      <td>0</td>\n",
       "      <td>0</td>\n",
       "      <td>0</td>\n",
       "      <td>0</td>\n",
       "      <td>0</td>\n",
       "      <td>1999-12-25</td>\n",
       "      <td>Children</td>\n",
       "      <td>new user</td>\n",
       "    </tr>\n",
       "    <tr>\n",
       "      <th>4</th>\n",
       "      <td>14</td>\n",
       "      <td>male</td>\n",
       "      <td>82.0</td>\n",
       "      <td>0</td>\n",
       "      <td>0</td>\n",
       "      <td>0</td>\n",
       "      <td>0</td>\n",
       "      <td>0</td>\n",
       "      <td>0</td>\n",
       "      <td>1999-12-04</td>\n",
       "      <td>Children</td>\n",
       "      <td>new user</td>\n",
       "    </tr>\n",
       "  </tbody>\n",
       "</table>\n",
       "</div>"
      ],
      "text/plain": [
       "   age  gender  tenure  friend_count  friendships_initiated  mobile_likes  \\\n",
       "0   14    male   266.0             0                      0             0   \n",
       "1   14  female     6.0             0                      0             0   \n",
       "2   14    male    13.0             0                      0             0   \n",
       "3   14  female    93.0             0                      0             0   \n",
       "4   14    male    82.0             0                      0             0   \n",
       "\n",
       "   mobile_likes_received  www_likes  www_likes_received        dob age_group  \\\n",
       "0                      0          0                   0 1999-11-19  Children   \n",
       "1                      0          0                   0 1999-11-02  Children   \n",
       "2                      0          0                   0 1999-11-16  Children   \n",
       "3                      0          0                   0 1999-12-25  Children   \n",
       "4                      0          0                   0 1999-12-04  Children   \n",
       "\n",
       "  user_type  \n",
       "0  new user  \n",
       "1  new user  \n",
       "2  new user  \n",
       "3  new user  \n",
       "4  new user  "
      ]
     },
     "execution_count": 39,
     "metadata": {},
     "output_type": "execute_result"
    }
   ],
   "source": [
    "print('Data Shape:', data.shape)\n",
    "data.head()"
   ]
  },
  {
   "cell_type": "markdown",
   "id": "d8f18d4f",
   "metadata": {},
   "source": [
    "**mobile_likes_received** has a large skewness hence removing the outliers"
   ]
  },
  {
   "cell_type": "code",
   "execution_count": 40,
   "id": "5579b3ea",
   "metadata": {},
   "outputs": [
    {
     "name": "stdout",
     "output_type": "stream",
     "text": [
      "32.0\n",
      "32.0\n"
     ]
    }
   ],
   "source": [
    "Q3_mobile_likes_received=data['mobile_likes_received'].quantile(0.75)\n",
    "IQR_mobile_likes_received=data['mobile_likes_received'].quantile(0.75)-data['mobile_likes_received'].quantile(0.25)\n",
    "print(Q3_mobile_likes_received)\n",
    "print(IQR_mobile_likes_received)"
   ]
  },
  {
   "cell_type": "markdown",
   "id": "a48f2257",
   "metadata": {},
   "source": [
    "All the values lying above the upper whisker of boxplot (Q3+1.5xIQR) are ouliers and hence are removed"
   ]
  },
  {
   "cell_type": "code",
   "execution_count": 41,
   "id": "4ab6628b",
   "metadata": {},
   "outputs": [],
   "source": [
    "data=data[data['mobile_likes_received']<(Q3_mobile_likes_received+3*IQR_mobile_likes_received)]"
   ]
  },
  {
   "cell_type": "markdown",
   "id": "07030adc",
   "metadata": {},
   "source": [
    "**www_likes_received** has a large skewness hence removing the outliers"
   ]
  },
  {
   "cell_type": "code",
   "execution_count": 43,
   "id": "54630b95",
   "metadata": {},
   "outputs": [
    {
     "name": "stdout",
     "output_type": "stream",
     "text": [
      "10.0\n",
      "10.0\n"
     ]
    }
   ],
   "source": [
    "Q3_www_likes_received=data['www_likes_received'].quantile(0.75)\n",
    "IQR_www_likes_received=data['www_likes_received'].quantile(0.75)-data['www_likes_received'].quantile(0.25)\n",
    "print(Q3_www_likes_received)\n",
    "print(IQR_www_likes_received)"
   ]
  },
  {
   "cell_type": "code",
   "execution_count": 44,
   "id": "72c69bd7",
   "metadata": {},
   "outputs": [],
   "source": [
    "data=data[data['www_likes_received']<(Q3_www_likes_received+3*IQR_www_likes_received)]"
   ]
  },
  {
   "cell_type": "code",
   "execution_count": 49,
   "id": "b09da66a",
   "metadata": {},
   "outputs": [
    {
     "name": "stdout",
     "output_type": "stream",
     "text": [
      "(68181, 12)\n"
     ]
    },
    {
     "data": {
      "text/html": [
       "<div>\n",
       "<style scoped>\n",
       "    .dataframe tbody tr th:only-of-type {\n",
       "        vertical-align: middle;\n",
       "    }\n",
       "\n",
       "    .dataframe tbody tr th {\n",
       "        vertical-align: top;\n",
       "    }\n",
       "\n",
       "    .dataframe thead th {\n",
       "        text-align: right;\n",
       "    }\n",
       "</style>\n",
       "<table border=\"1\" class=\"dataframe\">\n",
       "  <thead>\n",
       "    <tr style=\"text-align: right;\">\n",
       "      <th></th>\n",
       "      <th>age</th>\n",
       "      <th>gender</th>\n",
       "      <th>tenure</th>\n",
       "      <th>friend_count</th>\n",
       "      <th>friendships_initiated</th>\n",
       "      <th>mobile_likes</th>\n",
       "      <th>mobile_likes_received</th>\n",
       "      <th>www_likes</th>\n",
       "      <th>www_likes_received</th>\n",
       "      <th>dob</th>\n",
       "      <th>age_group</th>\n",
       "      <th>user_type</th>\n",
       "    </tr>\n",
       "  </thead>\n",
       "  <tbody>\n",
       "    <tr>\n",
       "      <th>0</th>\n",
       "      <td>14</td>\n",
       "      <td>male</td>\n",
       "      <td>266.0</td>\n",
       "      <td>0</td>\n",
       "      <td>0</td>\n",
       "      <td>0</td>\n",
       "      <td>0</td>\n",
       "      <td>0</td>\n",
       "      <td>0</td>\n",
       "      <td>1999-11-19</td>\n",
       "      <td>Children</td>\n",
       "      <td>new user</td>\n",
       "    </tr>\n",
       "    <tr>\n",
       "      <th>1</th>\n",
       "      <td>14</td>\n",
       "      <td>female</td>\n",
       "      <td>6.0</td>\n",
       "      <td>0</td>\n",
       "      <td>0</td>\n",
       "      <td>0</td>\n",
       "      <td>0</td>\n",
       "      <td>0</td>\n",
       "      <td>0</td>\n",
       "      <td>1999-11-02</td>\n",
       "      <td>Children</td>\n",
       "      <td>new user</td>\n",
       "    </tr>\n",
       "    <tr>\n",
       "      <th>2</th>\n",
       "      <td>14</td>\n",
       "      <td>male</td>\n",
       "      <td>13.0</td>\n",
       "      <td>0</td>\n",
       "      <td>0</td>\n",
       "      <td>0</td>\n",
       "      <td>0</td>\n",
       "      <td>0</td>\n",
       "      <td>0</td>\n",
       "      <td>1999-11-16</td>\n",
       "      <td>Children</td>\n",
       "      <td>new user</td>\n",
       "    </tr>\n",
       "    <tr>\n",
       "      <th>3</th>\n",
       "      <td>14</td>\n",
       "      <td>female</td>\n",
       "      <td>93.0</td>\n",
       "      <td>0</td>\n",
       "      <td>0</td>\n",
       "      <td>0</td>\n",
       "      <td>0</td>\n",
       "      <td>0</td>\n",
       "      <td>0</td>\n",
       "      <td>1999-12-25</td>\n",
       "      <td>Children</td>\n",
       "      <td>new user</td>\n",
       "    </tr>\n",
       "    <tr>\n",
       "      <th>4</th>\n",
       "      <td>14</td>\n",
       "      <td>male</td>\n",
       "      <td>82.0</td>\n",
       "      <td>0</td>\n",
       "      <td>0</td>\n",
       "      <td>0</td>\n",
       "      <td>0</td>\n",
       "      <td>0</td>\n",
       "      <td>0</td>\n",
       "      <td>1999-12-04</td>\n",
       "      <td>Children</td>\n",
       "      <td>new user</td>\n",
       "    </tr>\n",
       "  </tbody>\n",
       "</table>\n",
       "</div>"
      ],
      "text/plain": [
       "   age  gender  tenure  friend_count  friendships_initiated  mobile_likes  \\\n",
       "0   14    male   266.0             0                      0             0   \n",
       "1   14  female     6.0             0                      0             0   \n",
       "2   14    male    13.0             0                      0             0   \n",
       "3   14  female    93.0             0                      0             0   \n",
       "4   14    male    82.0             0                      0             0   \n",
       "\n",
       "   mobile_likes_received  www_likes  www_likes_received        dob age_group  \\\n",
       "0                      0          0                   0 1999-11-19  Children   \n",
       "1                      0          0                   0 1999-11-02  Children   \n",
       "2                      0          0                   0 1999-11-16  Children   \n",
       "3                      0          0                   0 1999-12-25  Children   \n",
       "4                      0          0                   0 1999-12-04  Children   \n",
       "\n",
       "  user_type  \n",
       "0  new user  \n",
       "1  new user  \n",
       "2  new user  \n",
       "3  new user  \n",
       "4  new user  "
      ]
     },
     "execution_count": 49,
     "metadata": {},
     "output_type": "execute_result"
    }
   ],
   "source": [
    "print(data.shape)\n",
    "data.head()"
   ]
  },
  {
   "cell_type": "markdown",
   "id": "edea7e20",
   "metadata": {},
   "source": [
    "**mobile_likes** has a Q3 of 12 and largest value is 6679 hence removing the outliers"
   ]
  },
  {
   "cell_type": "code",
   "execution_count": 46,
   "id": "526f9d1a",
   "metadata": {},
   "outputs": [
    {
     "name": "stdout",
     "output_type": "stream",
     "text": [
      "16.0\n",
      "16.0\n"
     ]
    }
   ],
   "source": [
    "Q3_mobile_likes=data['mobile_likes'].quantile(0.75)\n",
    "IQR_mobile_likes=data['mobile_likes'].quantile(0.75)-data['mobile_likes'].quantile(0.25)\n",
    "print(Q3_mobile_likes)\n",
    "print(IQR_mobile_likes)"
   ]
  },
  {
   "cell_type": "code",
   "execution_count": 47,
   "id": "c7294aaf",
   "metadata": {},
   "outputs": [],
   "source": [
    "data=data[data['mobile_likes']<(Q3_mobile_likes+3*IQR_mobile_likes)]"
   ]
  },
  {
   "cell_type": "markdown",
   "id": "7c0905ba",
   "metadata": {},
   "source": [
    "**www_likes** has a Q3 of 1 and largest value is 2719 hence removing the outliers"
   ]
  },
  {
   "cell_type": "code",
   "execution_count": 50,
   "id": "a0b5f67d",
   "metadata": {},
   "outputs": [
    {
     "name": "stdout",
     "output_type": "stream",
     "text": [
      "1.0\n",
      "1.0\n"
     ]
    }
   ],
   "source": [
    "Q3_www_likes=data['www_likes'].quantile(0.75)\n",
    "IQR_www_likes=data['www_likes'].quantile(0.75)-data['www_likes'].quantile(0.25)\n",
    "print(Q3_www_likes)\n",
    "print(IQR_www_likes)"
   ]
  },
  {
   "cell_type": "code",
   "execution_count": 51,
   "id": "0503a7e4",
   "metadata": {},
   "outputs": [],
   "source": [
    "data=data[data['www_likes']<(Q3_www_likes+3*IQR_www_likes)]"
   ]
  },
  {
   "cell_type": "code",
   "execution_count": 52,
   "id": "01fb4365",
   "metadata": {},
   "outputs": [
    {
     "name": "stdout",
     "output_type": "stream",
     "text": [
      "(55369, 12)\n"
     ]
    },
    {
     "data": {
      "text/html": [
       "<div>\n",
       "<style scoped>\n",
       "    .dataframe tbody tr th:only-of-type {\n",
       "        vertical-align: middle;\n",
       "    }\n",
       "\n",
       "    .dataframe tbody tr th {\n",
       "        vertical-align: top;\n",
       "    }\n",
       "\n",
       "    .dataframe thead th {\n",
       "        text-align: right;\n",
       "    }\n",
       "</style>\n",
       "<table border=\"1\" class=\"dataframe\">\n",
       "  <thead>\n",
       "    <tr style=\"text-align: right;\">\n",
       "      <th></th>\n",
       "      <th>age</th>\n",
       "      <th>gender</th>\n",
       "      <th>tenure</th>\n",
       "      <th>friend_count</th>\n",
       "      <th>friendships_initiated</th>\n",
       "      <th>mobile_likes</th>\n",
       "      <th>mobile_likes_received</th>\n",
       "      <th>www_likes</th>\n",
       "      <th>www_likes_received</th>\n",
       "      <th>dob</th>\n",
       "      <th>age_group</th>\n",
       "      <th>user_type</th>\n",
       "    </tr>\n",
       "  </thead>\n",
       "  <tbody>\n",
       "    <tr>\n",
       "      <th>0</th>\n",
       "      <td>14</td>\n",
       "      <td>male</td>\n",
       "      <td>266.0</td>\n",
       "      <td>0</td>\n",
       "      <td>0</td>\n",
       "      <td>0</td>\n",
       "      <td>0</td>\n",
       "      <td>0</td>\n",
       "      <td>0</td>\n",
       "      <td>1999-11-19</td>\n",
       "      <td>Children</td>\n",
       "      <td>new user</td>\n",
       "    </tr>\n",
       "    <tr>\n",
       "      <th>1</th>\n",
       "      <td>14</td>\n",
       "      <td>female</td>\n",
       "      <td>6.0</td>\n",
       "      <td>0</td>\n",
       "      <td>0</td>\n",
       "      <td>0</td>\n",
       "      <td>0</td>\n",
       "      <td>0</td>\n",
       "      <td>0</td>\n",
       "      <td>1999-11-02</td>\n",
       "      <td>Children</td>\n",
       "      <td>new user</td>\n",
       "    </tr>\n",
       "    <tr>\n",
       "      <th>2</th>\n",
       "      <td>14</td>\n",
       "      <td>male</td>\n",
       "      <td>13.0</td>\n",
       "      <td>0</td>\n",
       "      <td>0</td>\n",
       "      <td>0</td>\n",
       "      <td>0</td>\n",
       "      <td>0</td>\n",
       "      <td>0</td>\n",
       "      <td>1999-11-16</td>\n",
       "      <td>Children</td>\n",
       "      <td>new user</td>\n",
       "    </tr>\n",
       "    <tr>\n",
       "      <th>3</th>\n",
       "      <td>14</td>\n",
       "      <td>female</td>\n",
       "      <td>93.0</td>\n",
       "      <td>0</td>\n",
       "      <td>0</td>\n",
       "      <td>0</td>\n",
       "      <td>0</td>\n",
       "      <td>0</td>\n",
       "      <td>0</td>\n",
       "      <td>1999-12-25</td>\n",
       "      <td>Children</td>\n",
       "      <td>new user</td>\n",
       "    </tr>\n",
       "    <tr>\n",
       "      <th>4</th>\n",
       "      <td>14</td>\n",
       "      <td>male</td>\n",
       "      <td>82.0</td>\n",
       "      <td>0</td>\n",
       "      <td>0</td>\n",
       "      <td>0</td>\n",
       "      <td>0</td>\n",
       "      <td>0</td>\n",
       "      <td>0</td>\n",
       "      <td>1999-12-04</td>\n",
       "      <td>Children</td>\n",
       "      <td>new user</td>\n",
       "    </tr>\n",
       "  </tbody>\n",
       "</table>\n",
       "</div>"
      ],
      "text/plain": [
       "   age  gender  tenure  friend_count  friendships_initiated  mobile_likes  \\\n",
       "0   14    male   266.0             0                      0             0   \n",
       "1   14  female     6.0             0                      0             0   \n",
       "2   14    male    13.0             0                      0             0   \n",
       "3   14  female    93.0             0                      0             0   \n",
       "4   14    male    82.0             0                      0             0   \n",
       "\n",
       "   mobile_likes_received  www_likes  www_likes_received        dob age_group  \\\n",
       "0                      0          0                   0 1999-11-19  Children   \n",
       "1                      0          0                   0 1999-11-02  Children   \n",
       "2                      0          0                   0 1999-11-16  Children   \n",
       "3                      0          0                   0 1999-12-25  Children   \n",
       "4                      0          0                   0 1999-12-04  Children   \n",
       "\n",
       "  user_type  \n",
       "0  new user  \n",
       "1  new user  \n",
       "2  new user  \n",
       "3  new user  \n",
       "4  new user  "
      ]
     },
     "execution_count": 52,
     "metadata": {},
     "output_type": "execute_result"
    }
   ],
   "source": [
    "print(data.shape)\n",
    "data.head()"
   ]
  },
  {
   "cell_type": "code",
   "execution_count": 53,
   "id": "8959b338",
   "metadata": {},
   "outputs": [],
   "source": [
    "data['www_likes']=data['www_likes'].astype('int')"
   ]
  },
  {
   "cell_type": "code",
   "execution_count": 54,
   "id": "e3774fd1",
   "metadata": {},
   "outputs": [],
   "source": [
    "data['tenure']=data['tenure'].astype('int')"
   ]
  },
  {
   "cell_type": "markdown",
   "id": "fbdadfdb",
   "metadata": {},
   "source": [
    "Converted **www_likes** into integer column"
   ]
  },
  {
   "cell_type": "code",
   "execution_count": 57,
   "id": "5b014823",
   "metadata": {},
   "outputs": [
    {
     "name": "stdout",
     "output_type": "stream",
     "text": [
      "<class 'pandas.core.frame.DataFrame'>\n",
      "Int64Index: 55369 entries, 0 to 98233\n",
      "Data columns (total 12 columns):\n",
      " #   Column                 Non-Null Count  Dtype         \n",
      "---  ------                 --------------  -----         \n",
      " 0   age                    55369 non-null  int64         \n",
      " 1   gender                 55369 non-null  object        \n",
      " 2   tenure                 55369 non-null  int32         \n",
      " 3   friend_count           55369 non-null  int64         \n",
      " 4   friendships_initiated  55369 non-null  int64         \n",
      " 5   mobile_likes           55369 non-null  int64         \n",
      " 6   mobile_likes_received  55369 non-null  int64         \n",
      " 7   www_likes              55369 non-null  int32         \n",
      " 8   www_likes_received     55369 non-null  int64         \n",
      " 9   dob                    55369 non-null  datetime64[ns]\n",
      " 10  age_group              55369 non-null  category      \n",
      " 11  user_type              55369 non-null  object        \n",
      "dtypes: category(1), datetime64[ns](1), int32(2), int64(6), object(2)\n",
      "memory usage: 4.3+ MB\n"
     ]
    }
   ],
   "source": [
    "data.info()"
   ]
  },
  {
   "cell_type": "markdown",
   "id": "236a0a72",
   "metadata": {},
   "source": [
    "---\n",
    "<a name = Section8></a>\n",
    "# **4. Exploratory Data Analysis**\n",
    "---\n",
    "\n",
    "- This section is emphasised on asking the right questions and perform analysis using the data.\n"
   ]
  },
  {
   "cell_type": "markdown",
   "id": "6e2439b6",
   "metadata": {},
   "source": [
    "<a id=section501></a>\n",
    "## 4.1 Analysis Based on Gender"
   ]
  },
  {
   "cell_type": "markdown",
   "id": "12bb03e2",
   "metadata": {},
   "source": [
    "<a id=section501></a>\n",
    "### 4.1.1 Which gender group has majority of  users on Facebook?"
   ]
  },
  {
   "cell_type": "code",
   "execution_count": 58,
   "id": "454c3cfc",
   "metadata": {},
   "outputs": [
    {
     "data": {
      "text/plain": [
       "male      38751\n",
       "female    16618\n",
       "Name: gender, dtype: int64"
      ]
     },
     "execution_count": 58,
     "metadata": {},
     "output_type": "execute_result"
    }
   ],
   "source": [
    "data['gender'].value_counts()"
   ]
  },
  {
   "cell_type": "code",
   "execution_count": 62,
   "id": "ef852a3e",
   "metadata": {},
   "outputs": [
    {
     "data": {
      "text/plain": [
       "<AxesSubplot:ylabel='gender'>"
      ]
     },
     "execution_count": 62,
     "metadata": {},
     "output_type": "execute_result"
    },
    {
     "data": {
      "image/png": "[encoded data removed]",
      "text/plain": [
       "<Figure size 720x720 with 1 Axes>"
      ]
     },
     "metadata": {},
     "output_type": "display_data"
    }
   ],
   "source": [
    "data['gender'].value_counts().plot(kind='pie', explode=[0.05,0.05], fontsize=14, autopct='%3.1f%%', \n",
    "                                               figsize=(10,10), shadow=True, legend=True, cmap='summer')"
   ]
  },
  {
   "cell_type": "markdown",
   "id": "09a16e8b",
   "metadata": {},
   "source": [
    " - **70%** of the users are **male** and **30%** are **female** \n",
    " - Hence male group has majority of users on Facebook with respect to female users"
   ]
  },
  {
   "cell_type": "markdown",
   "id": "a3e1a0a3",
   "metadata": {},
   "source": [
    "<a id=section501></a>\n",
    "### 4.1.2 Which gender group is more extroverted (has initiated more friendships)?"
   ]
  },
  {
   "cell_type": "code",
   "execution_count": 128,
   "id": "5ddfe93a",
   "metadata": {},
   "outputs": [
    {
     "data": {
      "text/plain": [
       "gender\n",
       "female    49.58\n",
       "male      65.25\n",
       "dtype: float64"
      ]
     },
     "execution_count": 128,
     "metadata": {},
     "output_type": "execute_result"
    }
   ],
   "source": [
    "z=data.groupby('gender').apply(lambda x: x['friendships_initiated'].sum()/x['friend_count'].sum())\n",
    "per_frienships_initiated=round(z*100,2)\n",
    "per_frienships_initiated"
   ]
  },
  {
   "cell_type": "markdown",
   "id": "8b68a8a7",
   "metadata": {},
   "source": [
    "Therefore we can say that **male** users are more social or extrovert as **65.25%** friendships are initiated by them.\n",
    "\n",
    "Only **49.58%** even less than 50% friendships are initiated by female users out of total friend count of female."
   ]
  },
  {
   "cell_type": "code",
   "execution_count": 64,
   "id": "65bcd35e",
   "metadata": {},
   "outputs": [
    {
     "data": {
      "image/png": "[encoded data removed]",
      "text/plain": [
       "<Figure size 504x504 with 1 Axes>"
      ]
     },
     "metadata": {
      "needs_background": "light"
     },
     "output_type": "display_data"
    }
   ],
   "source": [
    "plt.figure(figsize=(7,7))\n",
    "per_frienships_initiated.plot(kind='bar',fontsize=14,colormap='Spectral_r')\n",
    "plt.title('Percentage of friendships initiated',fontsize=18)\n",
    "plt.ylabel('Percentage',fontsize=18)\n",
    "plt.xlabel('Gender',fontsize=18)\n",
    "plt.show()"
   ]
  },
  {
   "cell_type": "markdown",
   "id": "3977e573",
   "metadata": {},
   "source": [
    "<a id=section501></a>\n",
    "### 4.1.3 Which gender group is more inactive?"
   ]
  },
  {
   "cell_type": "markdown",
   "id": "73389529",
   "metadata": {},
   "source": [
    "We can say a user is inactive if he/she has **friend_count,** **mobile_likes,** **mobile_likes_received,** **www_likes** and **www_likes_received** equal to 0."
   ]
  },
  {
   "cell_type": "code",
   "execution_count": 65,
   "id": "e7d934da",
   "metadata": {},
   "outputs": [],
   "source": [
    "inactive=data[(data['friend_count']==0)  & (data['mobile_likes']==0) & \n",
    "              (data['mobile_likes_received']==0) & (data['www_likes']==0) & (data['www_likes_received']==0)]"
   ]
  },
  {
   "cell_type": "code",
   "execution_count": 66,
   "id": "77f8ff8b",
   "metadata": {},
   "outputs": [
    {
     "data": {
      "text/plain": [
       "(1657, 12)"
      ]
     },
     "execution_count": 66,
     "metadata": {},
     "output_type": "execute_result"
    }
   ],
   "source": [
    "inactive.shape"
   ]
  },
  {
   "cell_type": "code",
   "execution_count": 67,
   "id": "5b81efa5",
   "metadata": {},
   "outputs": [
    {
     "name": "stdout",
     "output_type": "stream",
     "text": [
      "Percentage of inactive users out of all the users: 2.99 %\n"
     ]
    }
   ],
   "source": [
    "print('Percentage of inactive users out of all the users:',round(1657*100/55369,2),'%')"
   ]
  },
  {
   "cell_type": "markdown",
   "id": "0244c924",
   "metadata": {},
   "source": [
    "- **3%** users are inactive"
   ]
  },
  {
   "cell_type": "code",
   "execution_count": 71,
   "id": "0782543f",
   "metadata": {},
   "outputs": [
    {
     "data": {
      "text/plain": [
       "gender\n",
       "female     416\n",
       "male      1241\n",
       "Name: gender, dtype: int64"
      ]
     },
     "execution_count": 71,
     "metadata": {},
     "output_type": "execute_result"
    }
   ],
   "source": [
    "inactive.groupby(by='gender')['gender'].count()"
   ]
  },
  {
   "cell_type": "markdown",
   "id": "b2ac913f",
   "metadata": {},
   "source": [
    "- Out of **1657** inactive users **1241 users are male** and **416 users are female**"
   ]
  },
  {
   "cell_type": "code",
   "execution_count": 72,
   "id": "d192568e",
   "metadata": {},
   "outputs": [
    {
     "name": "stdout",
     "output_type": "stream",
     "text": [
      "Percentage of inactive male out of total male 3.2 %\n",
      "Percentage of inactive female out of total female 2.5 %\n"
     ]
    }
   ],
   "source": [
    "print('Percentage of inactive male out of total male',round(1241*100/38751,2),'%')\n",
    "print('Percentage of inactive female out of total female',round(416*100/16618,2),'%')"
   ]
  },
  {
   "cell_type": "markdown",
   "id": "01490035",
   "metadata": {},
   "source": [
    "- **3.2% of male users** are inactive users.\n",
    "- **2.5% of female users** are inactive users.\n",
    "- Hence female users are more than male users"
   ]
  },
  {
   "cell_type": "code",
   "execution_count": 75,
   "id": "18286e3d",
   "metadata": {},
   "outputs": [
    {
     "data": {
      "image/png": "[encoded data removed]",
      "text/plain": [
       "<Figure size 1584x432 with 2 Axes>"
      ]
     },
     "metadata": {},
     "output_type": "display_data"
    }
   ],
   "source": [
    "f,ax = plt.subplots(1,2,figsize=(22,6))\n",
    "inactive['user_type'][inactive['gender']=='male'].value_counts().plot.pie(explode=[0,0.2],autopct='%1.1f%%',ax=ax[0],shadow=True)\n",
    "inactive['user_type'][inactive['gender']=='female'].value_counts().plot.pie(explode=[0,0.2],autopct='%1.1f%%',ax=ax[1],shadow=True)\n",
    "ax[0].set_title('(inactive males)')\n",
    "ax[1].set_title('(inactive females)')\n",
    "plt.show()"
   ]
  },
  {
   "cell_type": "markdown",
   "id": "d24b20f7",
   "metadata": {},
   "source": [
    "- In both **male** and **female** the majority of inactive users are new users.\n",
    "- **74.1% male** and **70% female** inactive users are new users  "
   ]
  },
  {
   "cell_type": "markdown",
   "id": "57fd39f9",
   "metadata": {},
   "source": [
    "<a id=section501></a>\n",
    "### 4.1.4 Which gender group has majority of new users?"
   ]
  },
  {
   "cell_type": "markdown",
   "id": "d6234c6d",
   "metadata": {},
   "source": [
    "- New users are the people who joined Facebook within last one year."
   ]
  },
  {
   "cell_type": "code",
   "execution_count": 76,
   "id": "b6073f2d",
   "metadata": {},
   "outputs": [],
   "source": [
    "new_users=data[data['user_type']=='new user']"
   ]
  },
  {
   "cell_type": "code",
   "execution_count": 77,
   "id": "d831c6fd",
   "metadata": {},
   "outputs": [
    {
     "data": {
      "text/plain": [
       "(27718, 12)"
      ]
     },
     "execution_count": 77,
     "metadata": {},
     "output_type": "execute_result"
    }
   ],
   "source": [
    "new_users.shape"
   ]
  },
  {
   "cell_type": "markdown",
   "id": "524e56e8",
   "metadata": {},
   "source": [
    "- A total of 27718 users joined Facebook within last one year"
   ]
  },
  {
   "cell_type": "code",
   "execution_count": 78,
   "id": "41b9129c",
   "metadata": {},
   "outputs": [
    {
     "data": {
      "text/plain": [
       "gender\n",
       "female     8097\n",
       "male      19621\n",
       "Name: gender, dtype: int64"
      ]
     },
     "execution_count": 78,
     "metadata": {},
     "output_type": "execute_result"
    }
   ],
   "source": [
    "new_users.groupby(by='gender')['gender'].count()"
   ]
  },
  {
   "cell_type": "code",
   "execution_count": 79,
   "id": "101d555a",
   "metadata": {},
   "outputs": [
    {
     "data": {
      "image/png": "[encoded data removed]",
      "text/plain": [
       "<Figure size 720x720 with 1 Axes>"
      ]
     },
     "metadata": {},
     "output_type": "display_data"
    }
   ],
   "source": [
    "new_users.groupby(by='gender')['gender'].count().plot(kind='pie', explode=[0.05,0.05], fontsize=14, autopct='%3.1f%%', \n",
    "                                               figsize=(10,10), shadow=True, legend=True)\n",
    "\n",
    "plt.ylabel('Gender',fontsize=14)\n",
    "plt.title('Proportion of new users on the basis of gender',fontsize=16)\n",
    "plt.show()"
   ]
  },
  {
   "cell_type": "markdown",
   "id": "c4551fba",
   "metadata": {},
   "source": [
    "- Out of total **27718** new users **70.8%** users that is **19621** are **male** and **29.2%** users that is **8097** are **female**.\n"
   ]
  },
  {
   "cell_type": "markdown",
   "id": "bdb2c30b",
   "metadata": {},
   "source": [
    "<a id=section501></a>\n",
    "## 4.2 Analysis Based on Technology"
   ]
  },
  {
   "cell_type": "markdown",
   "id": "69ef650f",
   "metadata": {},
   "source": [
    "<a id=section501></a>\n",
    "### 4.2.1 Which is a more popular medium (mobile or web) to access Facebook among users?"
   ]
  },
  {
   "cell_type": "code",
   "execution_count": 129,
   "id": "4df31030",
   "metadata": {},
   "outputs": [],
   "source": [
    "technology=data.copy()"
   ]
  },
  {
   "cell_type": "code",
   "execution_count": 81,
   "id": "11491e01",
   "metadata": {},
   "outputs": [],
   "source": [
    "technology['mobile']=technology['mobile_likes_received']+technology['mobile_likes']\n",
    "technology['web']=technology['www_likes_received']+technology['www_likes']"
   ]
  },
  {
   "cell_type": "code",
   "execution_count": 82,
   "id": "f295b096",
   "metadata": {},
   "outputs": [
    {
     "data": {
      "text/plain": [
       "890819"
      ]
     },
     "execution_count": 82,
     "metadata": {},
     "output_type": "execute_result"
    }
   ],
   "source": [
    "Total_likes=technology['mobile'].sum()+technology['web'].sum()\n",
    "Total_likes"
   ]
  },
  {
   "cell_type": "markdown",
   "id": "a023ef22",
   "metadata": {},
   "source": [
    "- Total number of likes recieved and given in the dataset : 890819"
   ]
  },
  {
   "cell_type": "code",
   "execution_count": 84,
   "id": "d40cea4e",
   "metadata": {},
   "outputs": [
    {
     "data": {
      "text/plain": [
       "735436"
      ]
     },
     "execution_count": 84,
     "metadata": {},
     "output_type": "execute_result"
    }
   ],
   "source": [
    "technology['mobile'].sum()"
   ]
  },
  {
   "cell_type": "markdown",
   "id": "e52a9cdf",
   "metadata": {},
   "source": [
    "- Total number of likes recieved and given through mobile : 735436"
   ]
  },
  {
   "cell_type": "code",
   "execution_count": 85,
   "id": "10c7d71f",
   "metadata": {},
   "outputs": [
    {
     "data": {
      "text/plain": [
       "155383"
      ]
     },
     "execution_count": 85,
     "metadata": {},
     "output_type": "execute_result"
    }
   ],
   "source": [
    "technology['web'].sum()"
   ]
  },
  {
   "cell_type": "markdown",
   "id": "a4f7a469",
   "metadata": {},
   "source": [
    "- Total number of likes recieved and given through web : 155383"
   ]
  },
  {
   "cell_type": "code",
   "execution_count": 87,
   "id": "3cb0aa55",
   "metadata": {},
   "outputs": [
    {
     "name": "stdout",
     "output_type": "stream",
     "text": [
      "Percetage of likes through web 17.442712829429997 %\n",
      "Percetage of likes through mobile 82.55728717057 %\n"
     ]
    }
   ],
   "source": [
    "print('Percetage of likes through web',(technology['web'].sum()*100)/(technology['web'].sum()+technology['mobile'].sum()),'%')\n",
    "print('Percetage of likes through mobile',(technology['mobile'].sum()*100)/(technology['web'].sum()+technology['mobile'].sum()),'%')"
   ]
  },
  {
   "cell_type": "code",
   "execution_count": 88,
   "id": "61012116",
   "metadata": {},
   "outputs": [
    {
     "data": {
      "image/png": "[encoded data removed]",
      "text/plain": [
       "<Figure size 576x576 with 1 Axes>"
      ]
     },
     "metadata": {
      "needs_background": "light"
     },
     "output_type": "display_data"
    }
   ],
   "source": [
    "technology[['mobile','web']].sum().plot(kind='bar',figsize=(8,8),xlabel='Technology',ylabel='Total moblie and web likes')\n",
    "plt.show()"
   ]
  },
  {
   "cell_type": "markdown",
   "id": "33f43edf",
   "metadata": {},
   "source": [
    "- Out of all the likes received and given by users **82.55%** likes were from **mobile** and rest **17.44%** from **web**.\n",
    "(assuming no two people in the dataset are friends)\n",
    "Therefore we can say that most of the users are using Facebook through mobile and are not using website that much."
   ]
  },
  {
   "cell_type": "markdown",
   "id": "ddc78008",
   "metadata": {},
   "source": [
    "<a id=section501></a>\n",
    "### 4.2.2 Is number of likes related to number of friends?"
   ]
  },
  {
   "cell_type": "code",
   "execution_count": 90,
   "id": "aacc4bac",
   "metadata": {},
   "outputs": [],
   "source": [
    "technology['likes_received']=technology['mobile_likes_received']+technology['www_likes_received']"
   ]
  },
  {
   "cell_type": "code",
   "execution_count": 91,
   "id": "a054cc2c",
   "metadata": {},
   "outputs": [
    {
     "data": {
      "image/png": "[encoded data removed]",
      "text/plain": [
       "<Figure size 432x432 with 1 Axes>"
      ]
     },
     "metadata": {
      "needs_background": "light"
     },
     "output_type": "display_data"
    }
   ],
   "source": [
    "plt.figure(figsize=(6,6))\n",
    "sns.regplot(x='likes_received',y='friend_count',data=technology,scatter_kws={\"color\": \"blue\"}, line_kws={\"color\": \"red\"})\n",
    "plt.show()"
   ]
  },
  {
   "cell_type": "markdown",
   "id": "32b7d122",
   "metadata": {},
   "source": [
    "- As the plot shows positive regression line we can say that the number of likes increases with increase in number of friends (though it was expected) but the correlation is not strong."
   ]
  },
  {
   "cell_type": "code",
   "execution_count": 92,
   "id": "0c185582",
   "metadata": {},
   "outputs": [],
   "source": [
    "trend=technology[['friend_count','likes_received']]"
   ]
  },
  {
   "cell_type": "code",
   "execution_count": 93,
   "id": "e7d35498",
   "metadata": {},
   "outputs": [
    {
     "data": {
      "text/plain": [
       "<AxesSubplot:>"
      ]
     },
     "execution_count": 93,
     "metadata": {},
     "output_type": "execute_result"
    },
    {
     "data": {
      "image/png": "[encoded data removed]",
      "text/plain": [
       "<Figure size 432x288 with 2 Axes>"
      ]
     },
     "metadata": {
      "needs_background": "light"
     },
     "output_type": "display_data"
    }
   ],
   "source": [
    "sns.heatmap(trend.corr(),annot=True)"
   ]
  },
  {
   "cell_type": "markdown",
   "id": "0ad9ed7d",
   "metadata": {},
   "source": [
    "<a id=section501></a>\n",
    "## 4.3 Analysis Based on Age Group"
   ]
  },
  {
   "cell_type": "markdown",
   "id": "5b144714",
   "metadata": {},
   "source": [
    "<a id=section501></a>\n",
    "### 4.3.1 Which age group has majority of  users on Facebook?"
   ]
  },
  {
   "cell_type": "code",
   "execution_count": 94,
   "id": "270646e8",
   "metadata": {},
   "outputs": [
    {
     "data": {
      "text/plain": [
       "Young Adults      23628\n",
       "Adults            17723\n",
       "Children           9124\n",
       "Senior Citizen     4894\n",
       "Name: age_group, dtype: int64"
      ]
     },
     "execution_count": 94,
     "metadata": {},
     "output_type": "execute_result"
    }
   ],
   "source": [
    "data['age_group'].value_counts()"
   ]
  },
  {
   "cell_type": "code",
   "execution_count": 95,
   "id": "4876c6bd",
   "metadata": {},
   "outputs": [
    {
     "data": {
      "image/png": "[encoded data removed]",
      "text/plain": [
       "<Figure size 720x720 with 1 Axes>"
      ]
     },
     "metadata": {},
     "output_type": "display_data"
    }
   ],
   "source": [
    "data['age_group'].value_counts().plot(kind='pie', explode=[0.05,0.05,0.05,0.05], fontsize=14, autopct='%3.1f%%', \n",
    "                                               figsize=(10,10), shadow=True, legend=True, cmap='summer')\n",
    "\n",
    "plt.ylabel('Age Group',fontsize=14)\n",
    "plt.title('Proportion of each age group',fontsize=16)\n",
    "plt.show()"
   ]
  },
  {
   "cell_type": "markdown",
   "id": "69953bbd",
   "metadata": {},
   "source": [
    "- **42.7%** of the users are **Young Adults** \n",
    "- **32%** of the users are **Adults** \n",
    "- **16.5%** of the users are **Children** \n",
    "- **8.8%** of the users are **Senior Citizens** \n",
    " - Hence **Young Adults** group has majority of users on Facebook and percentage of **Senior Citizens** is least"
   ]
  },
  {
   "cell_type": "markdown",
   "id": "e9acf291",
   "metadata": {},
   "source": [
    "<a id=section501></a>\n",
    "### 4.3.2 Which age group is more extrovert (has inititiated more friendships)?"
   ]
  },
  {
   "cell_type": "code",
   "execution_count": 130,
   "id": "21f74241",
   "metadata": {},
   "outputs": [
    {
     "data": {
      "text/plain": [
       "age_group\n",
       "Children          59.95\n",
       "Young Adults      62.57\n",
       "Adults            58.76\n",
       "Senior Citizen    51.28\n",
       "dtype: float64"
      ]
     },
     "execution_count": 130,
     "metadata": {},
     "output_type": "execute_result"
    }
   ],
   "source": [
    "z=data.groupby('age_group').apply(lambda x: x['friendships_initiated'].sum()/x['friend_count'].sum())\n",
    "per_frienships_initiated=round(z*100,2)\n",
    "per_frienships_initiated"
   ]
  },
  {
   "cell_type": "markdown",
   "id": "c9302f46",
   "metadata": {},
   "source": [
    "Therefore we can say that **Young Adults** are more social or extrovert as **62.57%** friendships are initiated by them but difference among different groups is not that large.\n",
    "\n",
    "Only **Senior Citizens** are a little bit behind among all the groups."
   ]
  },
  {
   "cell_type": "code",
   "execution_count": 97,
   "id": "1a9a9117",
   "metadata": {},
   "outputs": [
    {
     "data": {
      "image/png": "[encoded data removed]",
      "text/plain": [
       "<Figure size 648x504 with 1 Axes>"
      ]
     },
     "metadata": {
      "needs_background": "light"
     },
     "output_type": "display_data"
    }
   ],
   "source": [
    "plt.figure(figsize=(9,7))\n",
    "per_frienships_initiated.plot(kind='bar',fontsize=12)\n",
    "plt.title('Percentage of friendships initiated',fontsize=18)\n",
    "plt.ylabel('Percentage',fontsize=16)\n",
    "plt.xlabel('Age Group',fontsize=16)\n",
    "plt.show()"
   ]
  },
  {
   "cell_type": "markdown",
   "id": "add3b7bf",
   "metadata": {},
   "source": [
    "<a id=section501></a>\n",
    "### 4.1.3 Which age group is most inactive?"
   ]
  },
  {
   "cell_type": "code",
   "execution_count": 100,
   "id": "dc258c41",
   "metadata": {},
   "outputs": [
    {
     "data": {
      "text/plain": [
       "age_group\n",
       "Children          243\n",
       "Young Adults      724\n",
       "Adults            617\n",
       "Senior Citizen     73\n",
       "Name: age_group, dtype: int64"
      ]
     },
     "execution_count": 100,
     "metadata": {},
     "output_type": "execute_result"
    }
   ],
   "source": [
    "inactive.groupby(by='age_group')['age_group'].count()"
   ]
  },
  {
   "cell_type": "code",
   "execution_count": 101,
   "id": "13626a42",
   "metadata": {},
   "outputs": [
    {
     "name": "stdout",
     "output_type": "stream",
     "text": [
      "Percentage of inactive Young Adults out of total Young Adults 3.16 %\n",
      "Percentage of inactive Adults out of total Adults 3.48 %\n",
      "Percentage of inactive Children out of total Children 2.66 %\n",
      "Percentage of inactive Senior Citizens out of total Senior Citizens 1.49 %\n"
     ]
    }
   ],
   "source": [
    "print('Percentage of inactive Young Adults out of total Young Adults',round(747*100/23628,2),'%')\n",
    "print('Percentage of inactive Adults out of total Adults',round(617*100/17723,2),'%')\n",
    "print('Percentage of inactive Children out of total Children',round(243*100/9124,2),'%')\n",
    "print('Percentage of inactive Senior Citizens out of total Senior Citizens',round(73*100/4894,2),'%')"
   ]
  },
  {
   "cell_type": "markdown",
   "id": "fde69dbd",
   "metadata": {},
   "source": [
    "- **3.16% of Young Adults** are inactive users.\n",
    "- **3.48% of Adults** are inactive users.\n",
    "- **2.66% of Children** are inactive users.\n",
    "- **1.49% of Senior Citizens** are inactive users.\n",
    "- Hence Senior citizens is the most active group with respect to other age groups"
   ]
  },
  {
   "cell_type": "code",
   "execution_count": 103,
   "id": "90c3c305",
   "metadata": {},
   "outputs": [
    {
     "data": {
      "image/png": "[encoded data removed]",
      "text/plain": [
       "<Figure size 1080x720 with 4 Axes>"
      ]
     },
     "metadata": {},
     "output_type": "display_data"
    }
   ],
   "source": [
    "plt.figure(figsize=(15,10))\n",
    "plt.subplot(2, 2, 1)\n",
    "inactive['user_type'][inactive['age_group']=='Young Adults'].value_counts().plot.pie(autopct='%1.1f%%',shadow=True)\n",
    "plt.title('(inactive Young Adults)')\n",
    "plt.subplot(2, 2, 2)\n",
    "inactive['user_type'][inactive['age_group']=='Adults'].value_counts().plot.pie(autopct='%1.1f%%',shadow=True)\n",
    "plt.title('(inactive Adults)')\n",
    "plt.subplot(2, 2, 3)\n",
    "inactive['user_type'][inactive['age_group']=='Children'].value_counts().plot.pie(autopct='%1.1f%%',shadow=True)\n",
    "plt.title('(inactive Children)')\n",
    "plt.subplot(2, 2, 4)\n",
    "inactive['user_type'][inactive['age_group']=='Senior Citizen'].value_counts().plot.pie(autopct='%1.1f%%',shadow=True)\n",
    "plt.title('(inactive Senior Citizens)')\n",
    "plt.show()"
   ]
  },
  {
   "cell_type": "markdown",
   "id": "10b5f080",
   "metadata": {},
   "source": [
    "- In all the age groups majority of inactive users are new users.\n",
    "- The group in which maxiumum number of old users are inactive is **Senior Citizen**,approx **40%** of old users are inactive. "
   ]
  },
  {
   "cell_type": "markdown",
   "id": "b7278d03",
   "metadata": {},
   "source": [
    "<a id=section501></a>\n",
    "### 4.3.4 Which age group has majority of new users?"
   ]
  },
  {
   "cell_type": "code",
   "execution_count": 108,
   "id": "985fb802",
   "metadata": {},
   "outputs": [
    {
     "data": {
      "text/plain": [
       "age_group\n",
       "Children           5993\n",
       "Young Adults      12457\n",
       "Adults             7986\n",
       "Senior Citizen     1282\n",
       "Name: age_group, dtype: int64"
      ]
     },
     "execution_count": 108,
     "metadata": {},
     "output_type": "execute_result"
    }
   ],
   "source": [
    "new_users.groupby(by='age_group')['age_group'].count()"
   ]
  },
  {
   "cell_type": "code",
   "execution_count": 109,
   "id": "174ad646",
   "metadata": {},
   "outputs": [
    {
     "data": {
      "image/png": "[encoded data removed]",
      "text/plain": [
       "<Figure size 720x720 with 1 Axes>"
      ]
     },
     "metadata": {},
     "output_type": "display_data"
    }
   ],
   "source": [
    "new_users.groupby(by='age_group')['age_group'].count().plot(kind='pie', explode=[0.05,0.05,0.05,0.05], fontsize=14, autopct='%3.1f%%', \n",
    "                                               figsize=(10,10), shadow=True, legend=True)\n",
    "\n",
    "plt.ylabel('Age Group',fontsize=14)\n",
    "plt.title('Proportion of new users on the basis of age group',fontsize=16)\n",
    "plt.show()"
   ]
  },
  {
   "cell_type": "markdown",
   "id": "9e8671f7",
   "metadata": {},
   "source": [
    "- Out of all the new users (27718), (12457) that is **44.9%** new users are **Young Adults**\n",
    "- Out of all the new users (27718), (7986) that is **28.8%** new users are **Adults**\n",
    "- Out of all the new users (27718), (5993) that is **21.6%** new users are **Children**\n",
    "- Out of all the new users (27718), (1282) that is **4.6%** new users are **Senior Citizens**\n",
    "- Hence number of Senior Citizens joining Facebook are really low"
   ]
  },
  {
   "cell_type": "markdown",
   "id": "8ae1232a",
   "metadata": {},
   "source": [
    "<a id=section501></a>\n",
    "## 4.4 Analysis Based on Type of User"
   ]
  },
  {
   "cell_type": "markdown",
   "id": "0b8bcc01",
   "metadata": {},
   "source": [
    "<a id=section501></a>\n",
    "### 4.4.1 In what proportion the users are divided into new and old users?"
   ]
  },
  {
   "cell_type": "code",
   "execution_count": 110,
   "id": "228c5c8e",
   "metadata": {},
   "outputs": [
    {
     "data": {
      "text/plain": [
       "new user    27718\n",
       "old user    27651\n",
       "Name: user_type, dtype: int64"
      ]
     },
     "execution_count": 110,
     "metadata": {},
     "output_type": "execute_result"
    }
   ],
   "source": [
    "data['user_type'].value_counts()"
   ]
  },
  {
   "cell_type": "code",
   "execution_count": 111,
   "id": "4148d2f3",
   "metadata": {},
   "outputs": [
    {
     "data": {
      "image/png": "[encoded data removed]",
      "text/plain": [
       "<Figure size 720x720 with 1 Axes>"
      ]
     },
     "metadata": {},
     "output_type": "display_data"
    }
   ],
   "source": [
    "data['user_type'].value_counts().plot(kind='pie', explode=[0.05,0.05], fontsize=14, autopct='%3.1f%%', \n",
    "                                               figsize=(10,10), shadow=True, legend=True, cmap='summer')\n",
    "\n",
    "plt.ylabel('User Type',fontsize=14)\n",
    "plt.title('Proportion of each user type',fontsize=16)\n",
    "plt.show()"
   ]
  },
  {
   "cell_type": "markdown",
   "id": "066563f7",
   "metadata": {},
   "source": [
    "- The proportion is approximately 50-50\n",
    "- This implies that number of users of Facebook increased by **100%** in one year"
   ]
  },
  {
   "cell_type": "markdown",
   "id": "90c10811",
   "metadata": {},
   "source": [
    "<a id=section501></a>\n",
    "### 4.4.2 Which user type is more extroverted(has inititiated more friendships)?"
   ]
  },
  {
   "cell_type": "code",
   "execution_count": 112,
   "id": "d6974610",
   "metadata": {},
   "outputs": [
    {
     "data": {
      "text/plain": [
       "user_type\n",
       "new user    63.92\n",
       "old user    58.35\n",
       "dtype: float64"
      ]
     },
     "execution_count": 112,
     "metadata": {},
     "output_type": "execute_result"
    }
   ],
   "source": [
    "z=data.groupby('user_type').apply(lambda x: x['friendships_initiated'].sum()/x['friend_count'].sum())\n",
    "per_frienships_initiated=round(z*100,2)\n",
    "per_frienships_initiated"
   ]
  },
  {
   "cell_type": "markdown",
   "id": "1bb7f426",
   "metadata": {},
   "source": [
    "- The proportion is really close but since new users must be exploring Facebbok they have a little higher ratio of friendships_initiated and friend counts."
   ]
  },
  {
   "cell_type": "code",
   "execution_count": 113,
   "id": "998fc1b5",
   "metadata": {},
   "outputs": [
    {
     "data": {
      "image/png": "[encoded data removed]",
      "text/plain": [
       "<Figure size 648x504 with 1 Axes>"
      ]
     },
     "metadata": {
      "needs_background": "light"
     },
     "output_type": "display_data"
    }
   ],
   "source": [
    "plt.figure(figsize=(9,7))\n",
    "per_frienships_initiated.plot(kind='bar',fontsize=12)\n",
    "plt.title('Percentage of friendships initiated',fontsize=18)\n",
    "plt.ylabel('Percentage',fontsize=16)\n",
    "plt.xlabel('User Type',fontsize=16)\n",
    "plt.show()"
   ]
  },
  {
   "cell_type": "markdown",
   "id": "ce08a9aa",
   "metadata": {},
   "source": [
    "<a id=section501></a>\n",
    "### 4.4.3 Which user type is more inactive?"
   ]
  },
  {
   "cell_type": "code",
   "execution_count": 114,
   "id": "12943880",
   "metadata": {},
   "outputs": [
    {
     "data": {
      "text/plain": [
       "user_type\n",
       "new user    1210\n",
       "old user     447\n",
       "Name: user_type, dtype: int64"
      ]
     },
     "execution_count": 114,
     "metadata": {},
     "output_type": "execute_result"
    }
   ],
   "source": [
    "inactive.groupby(by='user_type')['user_type'].count()"
   ]
  },
  {
   "cell_type": "code",
   "execution_count": 115,
   "id": "f2609e90",
   "metadata": {},
   "outputs": [
    {
     "name": "stdout",
     "output_type": "stream",
     "text": [
      "Percentage of inactive new users out of total new users 4.37 %\n",
      "Percentage of inactive old users out of total old users 1.62 %\n"
     ]
    }
   ],
   "source": [
    "print('Percentage of inactive new users out of total new users',round(1210*100/27718,2),'%')\n",
    "print('Percentage of inactive old users out of total old users',round(447*100/27651,2),'%')"
   ]
  },
  {
   "cell_type": "markdown",
   "id": "f5bca4f1",
   "metadata": {},
   "source": [
    "- **4.37% of new users** are inactive.\n",
    "- **1.62% of old users** are inactive."
   ]
  },
  {
   "cell_type": "markdown",
   "id": "0227a0a0",
   "metadata": {},
   "source": [
    "<a id=section501></a>\n",
    "## 4.5 Analysis of Demography of Users"
   ]
  },
  {
   "cell_type": "markdown",
   "id": "5e36d819",
   "metadata": {},
   "source": [
    "<a id=section501></a>\n",
    "### 4.5.1 How are age groups distributed into old and new users?"
   ]
  },
  {
   "cell_type": "code",
   "execution_count": 117,
   "id": "5cdbf280",
   "metadata": {},
   "outputs": [
    {
     "data": {
      "image/png": "[encoded data removed]",
      "text/plain": [
       "<Figure size 504x504 with 1 Axes>"
      ]
     },
     "metadata": {
      "needs_background": "light"
     },
     "output_type": "display_data"
    }
   ],
   "source": [
    "plt.figure(figsize=(7,7))\n",
    "sns.countplot(x='age_group',data=data, hue='user_type',palette='inferno')\n",
    "plt.show()"
   ]
  },
  {
   "cell_type": "markdown",
   "id": "a1ce573c",
   "metadata": {},
   "source": [
    "- Majority of people in the dataset are **new Young Adults**\n",
    "- **Children** are attracted to Facebook more than any other age group\n",
    "- Children and Young Adults have more new users than old users\n",
    "- Senior Citizens have very few new users with respect to old users\n"
   ]
  },
  {
   "cell_type": "markdown",
   "id": "f517aa66",
   "metadata": {},
   "source": [
    "<a id=section501></a>\n",
    "### 4.5.2 How are gender groups distributed into old and new users?"
   ]
  },
  {
   "cell_type": "code",
   "execution_count": 118,
   "id": "8e11e3ee",
   "metadata": {},
   "outputs": [
    {
     "data": {
      "image/png": "[encoded data removed]",
      "text/plain": [
       "<Figure size 504x504 with 1 Axes>"
      ]
     },
     "metadata": {
      "needs_background": "light"
     },
     "output_type": "display_data"
    }
   ],
   "source": [
    "plt.figure(figsize=(7,7))\n",
    "sns.countplot(x='user_type',data=data, hue='gender')\n",
    "plt.show()"
   ]
  },
  {
   "cell_type": "markdown",
   "id": "51c5593a",
   "metadata": {},
   "source": [
    "- The ratio in which male and female users are joining Facebbok is simliar to the ratio of male and female users already present on Facebook\n",
    "\n",
    "- Approximately there is 1 Female for every 2.6 male on Facebook."
   ]
  },
  {
   "cell_type": "markdown",
   "id": "256defb6",
   "metadata": {},
   "source": [
    "<a id=section501></a>\n",
    "### 4.5.3 How are gender groups distributed into different age groups?"
   ]
  },
  {
   "cell_type": "code",
   "execution_count": 120,
   "id": "a298494a",
   "metadata": {},
   "outputs": [
    {
     "data": {
      "text/plain": [
       "age_group       gender\n",
       "Children        male       6527\n",
       "                female     2597\n",
       "Young Adults    male      17386\n",
       "                female     6242\n",
       "Adults          male      12082\n",
       "                female     5641\n",
       "Senior Citizen  male       2756\n",
       "                female     2138\n",
       "Name: gender, dtype: int64"
      ]
     },
     "execution_count": 120,
     "metadata": {},
     "output_type": "execute_result"
    }
   ],
   "source": [
    "data.groupby('age_group')['gender'].value_counts()"
   ]
  },
  {
   "cell_type": "code",
   "execution_count": 121,
   "id": "d280ac86",
   "metadata": {},
   "outputs": [
    {
     "data": {
      "image/png": "[encoded data removed]",
      "text/plain": [
       "<Figure size 504x504 with 1 Axes>"
      ]
     },
     "metadata": {
      "needs_background": "light"
     },
     "output_type": "display_data"
    }
   ],
   "source": [
    "plt.figure(figsize=(7,7))\n",
    "sns.countplot(x='age_group',data=data, hue='gender',palette='viridis')\n",
    "plt.show()"
   ]
  },
  {
   "cell_type": "markdown",
   "id": "a44d530e",
   "metadata": {},
   "source": [
    "- The proportion of gender is most disproportionate in **Young Adults** approximately **1:2.8** (female:male)\n",
    "- The proprtion of gender in Senior Citizens age group is the best."
   ]
  },
  {
   "cell_type": "code",
   "execution_count": 122,
   "id": "fac9e246",
   "metadata": {},
   "outputs": [],
   "source": [
    "str_columns=['gender','user_type','age_group']"
   ]
  },
  {
   "cell_type": "code",
   "execution_count": 123,
   "id": "fc46027e",
   "metadata": {},
   "outputs": [],
   "source": [
    "new_data=data.copy()"
   ]
  },
  {
   "cell_type": "code",
   "execution_count": 124,
   "id": "9623cc29",
   "metadata": {},
   "outputs": [],
   "source": [
    "from sklearn.preprocessing import LabelEncoder                                    # Label encoder is used to transform non-numerical labels to numerical labels.\n",
    "number = LabelEncoder()                                                           # Here as our data set consists only of categorical values except age\n",
    "for i in str_columns:                                                          # in order to find the correlation between variables, we do Label encoding \n",
    "    new_data[i] = number.fit_transform(new_data[i].astype('str'))"
   ]
  },
  {
   "cell_type": "code",
   "execution_count": 125,
   "id": "2653ac7b",
   "metadata": {},
   "outputs": [
    {
     "data": {
      "text/html": [
       "<div>\n",
       "<style scoped>\n",
       "    .dataframe tbody tr th:only-of-type {\n",
       "        vertical-align: middle;\n",
       "    }\n",
       "\n",
       "    .dataframe tbody tr th {\n",
       "        vertical-align: top;\n",
       "    }\n",
       "\n",
       "    .dataframe thead th {\n",
       "        text-align: right;\n",
       "    }\n",
       "</style>\n",
       "<table border=\"1\" class=\"dataframe\">\n",
       "  <thead>\n",
       "    <tr style=\"text-align: right;\">\n",
       "      <th></th>\n",
       "      <th>age</th>\n",
       "      <th>gender</th>\n",
       "      <th>tenure</th>\n",
       "      <th>friend_count</th>\n",
       "      <th>friendships_initiated</th>\n",
       "      <th>mobile_likes</th>\n",
       "      <th>mobile_likes_received</th>\n",
       "      <th>www_likes</th>\n",
       "      <th>www_likes_received</th>\n",
       "      <th>dob</th>\n",
       "      <th>age_group</th>\n",
       "      <th>user_type</th>\n",
       "    </tr>\n",
       "  </thead>\n",
       "  <tbody>\n",
       "    <tr>\n",
       "      <th>0</th>\n",
       "      <td>14</td>\n",
       "      <td>1</td>\n",
       "      <td>266</td>\n",
       "      <td>0</td>\n",
       "      <td>0</td>\n",
       "      <td>0</td>\n",
       "      <td>0</td>\n",
       "      <td>0</td>\n",
       "      <td>0</td>\n",
       "      <td>1999-11-19</td>\n",
       "      <td>1</td>\n",
       "      <td>0</td>\n",
       "    </tr>\n",
       "    <tr>\n",
       "      <th>1</th>\n",
       "      <td>14</td>\n",
       "      <td>0</td>\n",
       "      <td>6</td>\n",
       "      <td>0</td>\n",
       "      <td>0</td>\n",
       "      <td>0</td>\n",
       "      <td>0</td>\n",
       "      <td>0</td>\n",
       "      <td>0</td>\n",
       "      <td>1999-11-02</td>\n",
       "      <td>1</td>\n",
       "      <td>0</td>\n",
       "    </tr>\n",
       "    <tr>\n",
       "      <th>2</th>\n",
       "      <td>14</td>\n",
       "      <td>1</td>\n",
       "      <td>13</td>\n",
       "      <td>0</td>\n",
       "      <td>0</td>\n",
       "      <td>0</td>\n",
       "      <td>0</td>\n",
       "      <td>0</td>\n",
       "      <td>0</td>\n",
       "      <td>1999-11-16</td>\n",
       "      <td>1</td>\n",
       "      <td>0</td>\n",
       "    </tr>\n",
       "    <tr>\n",
       "      <th>3</th>\n",
       "      <td>14</td>\n",
       "      <td>0</td>\n",
       "      <td>93</td>\n",
       "      <td>0</td>\n",
       "      <td>0</td>\n",
       "      <td>0</td>\n",
       "      <td>0</td>\n",
       "      <td>0</td>\n",
       "      <td>0</td>\n",
       "      <td>1999-12-25</td>\n",
       "      <td>1</td>\n",
       "      <td>0</td>\n",
       "    </tr>\n",
       "    <tr>\n",
       "      <th>4</th>\n",
       "      <td>14</td>\n",
       "      <td>1</td>\n",
       "      <td>82</td>\n",
       "      <td>0</td>\n",
       "      <td>0</td>\n",
       "      <td>0</td>\n",
       "      <td>0</td>\n",
       "      <td>0</td>\n",
       "      <td>0</td>\n",
       "      <td>1999-12-04</td>\n",
       "      <td>1</td>\n",
       "      <td>0</td>\n",
       "    </tr>\n",
       "  </tbody>\n",
       "</table>\n",
       "</div>"
      ],
      "text/plain": [
       "   age  gender  tenure  friend_count  friendships_initiated  mobile_likes  \\\n",
       "0   14       1     266             0                      0             0   \n",
       "1   14       0       6             0                      0             0   \n",
       "2   14       1      13             0                      0             0   \n",
       "3   14       0      93             0                      0             0   \n",
       "4   14       1      82             0                      0             0   \n",
       "\n",
       "   mobile_likes_received  www_likes  www_likes_received        dob  age_group  \\\n",
       "0                      0          0                   0 1999-11-19          1   \n",
       "1                      0          0                   0 1999-11-02          1   \n",
       "2                      0          0                   0 1999-11-16          1   \n",
       "3                      0          0                   0 1999-12-25          1   \n",
       "4                      0          0                   0 1999-12-04          1   \n",
       "\n",
       "   user_type  \n",
       "0          0  \n",
       "1          0  \n",
       "2          0  \n",
       "3          0  \n",
       "4          0  "
      ]
     },
     "execution_count": 125,
     "metadata": {},
     "output_type": "execute_result"
    }
   ],
   "source": [
    "new_data.head()"
   ]
  },
  {
   "cell_type": "code",
   "execution_count": 126,
   "id": "5f37cac4",
   "metadata": {},
   "outputs": [],
   "source": [
    "new_data.drop('dob',inplace=True,axis=1)"
   ]
  },
  {
   "cell_type": "code",
   "execution_count": 127,
   "id": "c719daf3",
   "metadata": {},
   "outputs": [
    {
     "data": {
      "image/png": "[encoded data removed]",
      "text/plain": [
       "<Figure size 720x720 with 2 Axes>"
      ]
     },
     "metadata": {
      "needs_background": "light"
     },
     "output_type": "display_data"
    }
   ],
   "source": [
    "features_correlation = new_data.corr()\n",
    "plt.figure(figsize=(10,10))\n",
    "sns.heatmap(features_correlation,vmax=1,annot=True,cmap='viridis')\n",
    "plt.show()"
   ]
  },
  {
   "cell_type": "markdown",
   "id": "7813bd42",
   "metadata": {},
   "source": [
    "#### Observation\n",
    "\n",
    "__tenure__ and __age__ ,__mobile_likes__ and __mobile_likes_received__ are moderately positively correlated\n",
    "\n",
    "__friend_count__ and __friendships_initiated__ are highly positively correlated"
   ]
  },
  {
   "cell_type": "markdown",
   "id": "1c872aad",
   "metadata": {},
   "source": [
    "---\n",
    "<a name = Section9></a>\n",
    "# **5. Summarization**\n",
    "---"
   ]
  },
  {
   "cell_type": "markdown",
   "id": "1eed4dcb",
   "metadata": {},
   "source": [
    "<a name = Section91></a>\n",
    "### **5.1 Conclusion**\n",
    "\n",
    "- **19621 male users** joined Facebook in the last one year even more than the male users already present.\n",
    "- **82.5%** people use Facebook on mobile and only **17.5%** use website.\n",
    "- Percentage of new **Senior Citizen** is really low.\n",
    "- **Children** are most attracted towards Facebook.The number of new users who are children are approximately **200%** of old users who are children.\n",
    "- The number of people who joined Facebook witin last one year are almost equal to the users already present on the platform. This implies that the number of users increased by **100%**\n",
    "- The proportion of male and female is same for old and new users\n",
    "- Adults and Senior Citizens are not joining Facebook much.\n",
    "- We can say as the age of user increases his use of facebook decreases.\n",
    "- **3%** users are inactive."
   ]
  },
  {
   "cell_type": "markdown",
   "id": "b2b3bb2a",
   "metadata": {},
   "source": [
    "<a name = Section92></a>\n",
    "### **7.2 Actionable Insights**\n",
    "\n",
    "- As Senior Citizens love being in contact with their friends and family, they should be Facebook's primary target audience as it is a platform to connect to people.\n",
    "- As the voice of females is generally suppressed in India, hence Facebook should show how their platform is independent of gender and everyone has the right to represent their thoughts to the world. This might attract females to come forward and become a part of Facebook.\n",
    "- Facebook should provide an option to make user's account private that is only friends of the users can see the user's account. This might increase the number of female users.\n",
    "- Many Adults might not be joining Facebook due to the fear of identity theft or online theft, Facebbok should ensure them that they monitor such malicious activities very sincerely.\n",
    "- They should show people how Facebook is a platform where businesses can find million of customers."
   ]
  },
  {
   "cell_type": "code",
   "execution_count": null,
   "id": "fdac9fd1",
   "metadata": {},
   "outputs": [],
   "source": []
  }
 ],
 "metadata": {
  "kernelspec": {
   "display_name": "Python 3 (ipykernel)",
   "language": "python",
   "name": "python3"
  },
  "language_info": {
   "codemirror_mode": {
    "name": "ipython",
    "version": 3
   },
   "file_extension": ".py",
   "mimetype": "text/x-python",
   "name": "python",
   "nbconvert_exporter": "python",
   "pygments_lexer": "ipython3",
   "version": "3.9.12"
  }
 },
 "nbformat": 4,
 "nbformat_minor": 5
}
